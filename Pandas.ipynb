{
 "cells": [
  {
   "cell_type": "markdown",
   "metadata": {
    "slideshow": {
     "slide_type": "slide"
    },
    "tags": []
   },
   "source": [
    "<p align=\"center\">\n",
    "\n",
    "<img height=80 src=\"data:image/png;base64,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\"> </img>\n",
    "</p>"
   ]
  },
  {
   "cell_type": "markdown",
   "metadata": {
    "slideshow": {
     "slide_type": "subslide"
    },
    "tags": []
   },
   "source": [
    "<div  style=\"font-size: 16px; color:black; font-family: 'Quicksand', sans-serif;font-weight:500\">\n",
    "\n",
    "\n",
    "References:\n",
    "-----------\n",
    "\n",
    "* [10 min intro to Pandas - Must Read](https://pandas.pydata.org/docs/user_guide/10min.html)\n",
    "* [Link-Towards Data Science](https://towardsdatascience.com/pandas-dataframe-a-lightweight-intro-680e3a212b96)\n",
    "* [Documentation](https://pandas.pydata.org/docs/user_guide/index.html#user-guide)\n",
    "\n",
    "</div>"
   ]
  },
  {
   "cell_type": "markdown",
   "metadata": {
    "slideshow": {
     "slide_type": "slide"
    },
    "tags": []
   },
   "source": [
    "<h1 style=\"color:green; font-family: 'Nunito Sans', sans-serif;font-weight:600\">Installing pandas"
   ]
  },
  {
   "cell_type": "markdown",
   "metadata": {
    "slideshow": {
     "slide_type": "slide"
    },
    "tags": []
   },
   "source": [
    "\n",
    "```\n",
    "pip install pandas\n",
    "```"
   ]
  },
  {
   "cell_type": "markdown",
   "metadata": {
    "id": "Dcst0uLIobNA",
    "slideshow": {
     "slide_type": "subslide"
    },
    "tags": []
   },
   "source": [
    "<h2 style=\"color:green; font-family: 'Nunito Sans', sans-serif;\">Creating DataFrames</h2>\n",
    "\n",
    "\n",
    "<div style=\"color:black; font-family: 'Quicksand', sans-serif;font-weight:500\">\n",
    "\n",
    "We can create dataframes from any of the methods as described below\n",
    "\n",
    "* from lists\n",
    "* from numpy arrays\n",
    "* from Dictionaries\n",
    "* from files\n",
    "    \n",
    "</div>"
   ]
  },
  {
   "cell_type": "markdown",
   "metadata": {
    "id": "hmfDXbGTpAJs",
    "slideshow": {
     "slide_type": "subslide"
    },
    "tags": []
   },
   "source": [
    "\n",
    "<h3 style=\"color:green; font-family: 'Nunito Sans', sans-serif;\">From Dictionaries</h3>\n"
   ]
  },
  {
   "cell_type": "code",
   "execution_count": 18,
   "metadata": {
    "colab": {
     "base_uri": "https://localhost:8080/",
     "height": 143
    },
    "id": "hCEGcQTEobAQ",
    "outputId": "36ffb6d0-58c8-4a15-b842-99c263b217c6",
    "slideshow": {
     "slide_type": "fragment"
    },
    "tags": []
   },
   "outputs": [
    {
     "data": {
      "text/html": [
       "<div>\n",
       "<style scoped>\n",
       "    .dataframe tbody tr th:only-of-type {\n",
       "        vertical-align: middle;\n",
       "    }\n",
       "\n",
       "    .dataframe tbody tr th {\n",
       "        vertical-align: top;\n",
       "    }\n",
       "\n",
       "    .dataframe thead th {\n",
       "        text-align: right;\n",
       "    }\n",
       "</style>\n",
       "<table border=\"1\" class=\"dataframe\">\n",
       "  <thead>\n",
       "    <tr style=\"text-align: right;\">\n",
       "      <th></th>\n",
       "      <th>name</th>\n",
       "      <th>age</th>\n",
       "      <th>city</th>\n",
       "    </tr>\n",
       "  </thead>\n",
       "  <tbody>\n",
       "    <tr>\n",
       "      <th>0</th>\n",
       "      <td>jack</td>\n",
       "      <td>34</td>\n",
       "      <td>Sydney</td>\n",
       "    </tr>\n",
       "    <tr>\n",
       "      <th>1</th>\n",
       "      <td>Riti</td>\n",
       "      <td>30</td>\n",
       "      <td>Delhi</td>\n",
       "    </tr>\n",
       "    <tr>\n",
       "      <th>2</th>\n",
       "      <td>Aadi</td>\n",
       "      <td>16</td>\n",
       "      <td>New york</td>\n",
       "    </tr>\n",
       "  </tbody>\n",
       "</table>\n",
       "</div>"
      ],
      "text/plain": [
       "   name  age      city\n",
       "0  jack   34    Sydney\n",
       "1  Riti   30     Delhi\n",
       "2  Aadi   16  New york"
      ]
     },
     "execution_count": 18,
     "metadata": {},
     "output_type": "execute_result"
    }
   ],
   "source": [
    "import pandas as pd\n",
    "studentData = {\n",
    "    'name' : ['jack', 'Riti', 'Aadi'],\n",
    "    'age' : [34, 30, 16],\n",
    "    'city' : ['Sydney', 'Delhi', 'New york']\n",
    "}\n",
    "\n",
    "\n",
    "\n",
    "df = pd.DataFrame(studentData)\n",
    "df"
   ]
  },
  {
   "cell_type": "markdown",
   "metadata": {
    "id": "ecZIMoW9pEK8",
    "slideshow": {
     "slide_type": "subslide"
    },
    "tags": []
   },
   "source": [
    "\n",
    "<h3 style=\"color:green; font-family: 'Nunito Sans', sans-serif;\">From Lists</h3>\n"
   ]
  },
  {
   "cell_type": "code",
   "execution_count": 19,
   "metadata": {
    "colab": {
     "base_uri": "https://localhost:8080/",
     "height": 206
    },
    "id": "tPHpwA--n2X6",
    "outputId": "45cc5494-a037-4496-dd3f-2c1505b59b43",
    "slideshow": {
     "slide_type": "fragment"
    },
    "tags": []
   },
   "outputs": [
    {
     "data": {
      "text/html": [
       "<div>\n",
       "<style scoped>\n",
       "    .dataframe tbody tr th:only-of-type {\n",
       "        vertical-align: middle;\n",
       "    }\n",
       "\n",
       "    .dataframe tbody tr th {\n",
       "        vertical-align: top;\n",
       "    }\n",
       "\n",
       "    .dataframe thead th {\n",
       "        text-align: right;\n",
       "    }\n",
       "</style>\n",
       "<table border=\"1\" class=\"dataframe\">\n",
       "  <thead>\n",
       "    <tr style=\"text-align: right;\">\n",
       "      <th></th>\n",
       "      <th>0</th>\n",
       "      <th>1</th>\n",
       "      <th>2</th>\n",
       "      <th>3</th>\n",
       "    </tr>\n",
       "  </thead>\n",
       "  <tbody>\n",
       "    <tr>\n",
       "      <th>0</th>\n",
       "      <td>1</td>\n",
       "      <td>2</td>\n",
       "      <td>3</td>\n",
       "      <td>4</td>\n",
       "    </tr>\n",
       "    <tr>\n",
       "      <th>1</th>\n",
       "      <td>5</td>\n",
       "      <td>6</td>\n",
       "      <td>7</td>\n",
       "      <td>8</td>\n",
       "    </tr>\n",
       "    <tr>\n",
       "      <th>2</th>\n",
       "      <td>9</td>\n",
       "      <td>10</td>\n",
       "      <td>11</td>\n",
       "      <td>12</td>\n",
       "    </tr>\n",
       "    <tr>\n",
       "      <th>3</th>\n",
       "      <td>13</td>\n",
       "      <td>14</td>\n",
       "      <td>15</td>\n",
       "      <td>16</td>\n",
       "    </tr>\n",
       "    <tr>\n",
       "      <th>4</th>\n",
       "      <td>17</td>\n",
       "      <td>18</td>\n",
       "      <td>19</td>\n",
       "      <td>20</td>\n",
       "    </tr>\n",
       "  </tbody>\n",
       "</table>\n",
       "</div>"
      ],
      "text/plain": [
       "    0   1   2   3\n",
       "0   1   2   3   4\n",
       "1   5   6   7   8\n",
       "2   9  10  11  12\n",
       "3  13  14  15  16\n",
       "4  17  18  19  20"
      ]
     },
     "execution_count": 19,
     "metadata": {},
     "output_type": "execute_result"
    }
   ],
   "source": [
    "my_list = [[1,2,3,4],\n",
    "           [5,6,7,8],\n",
    "           [9,10,11,12],\n",
    "           [13,14,15,16],\n",
    "           [17,18,19,20]]\n",
    "\n",
    "df = pd.DataFrame(my_list)\n",
    "df"
   ]
  },
  {
   "cell_type": "markdown",
   "metadata": {
    "id": "ecZIMoW9pEK8",
    "slideshow": {
     "slide_type": "subslide"
    },
    "tags": []
   },
   "source": [
    "\n",
    "<h3 style=\"color:green; font-family: 'Nunito Sans', sans-serif;\">From Numpy arrays</h3>\n"
   ]
  },
  {
   "cell_type": "code",
   "execution_count": 20,
   "metadata": {
    "colab": {
     "base_uri": "https://localhost:8080/",
     "height": 206
    },
    "id": "tPHpwA--n2X6",
    "outputId": "45cc5494-a037-4496-dd3f-2c1505b59b43",
    "slideshow": {
     "slide_type": "fragment"
    },
    "tags": []
   },
   "outputs": [
    {
     "data": {
      "text/html": [
       "<div>\n",
       "<style scoped>\n",
       "    .dataframe tbody tr th:only-of-type {\n",
       "        vertical-align: middle;\n",
       "    }\n",
       "\n",
       "    .dataframe tbody tr th {\n",
       "        vertical-align: top;\n",
       "    }\n",
       "\n",
       "    .dataframe thead th {\n",
       "        text-align: right;\n",
       "    }\n",
       "</style>\n",
       "<table border=\"1\" class=\"dataframe\">\n",
       "  <thead>\n",
       "    <tr style=\"text-align: right;\">\n",
       "      <th></th>\n",
       "      <th>0</th>\n",
       "      <th>1</th>\n",
       "      <th>2</th>\n",
       "      <th>3</th>\n",
       "    </tr>\n",
       "  </thead>\n",
       "  <tbody>\n",
       "    <tr>\n",
       "      <th>0</th>\n",
       "      <td>1</td>\n",
       "      <td>2</td>\n",
       "      <td>3</td>\n",
       "      <td>4</td>\n",
       "    </tr>\n",
       "    <tr>\n",
       "      <th>1</th>\n",
       "      <td>5</td>\n",
       "      <td>6</td>\n",
       "      <td>7</td>\n",
       "      <td>8</td>\n",
       "    </tr>\n",
       "    <tr>\n",
       "      <th>2</th>\n",
       "      <td>9</td>\n",
       "      <td>10</td>\n",
       "      <td>11</td>\n",
       "      <td>12</td>\n",
       "    </tr>\n",
       "    <tr>\n",
       "      <th>3</th>\n",
       "      <td>13</td>\n",
       "      <td>14</td>\n",
       "      <td>15</td>\n",
       "      <td>16</td>\n",
       "    </tr>\n",
       "    <tr>\n",
       "      <th>4</th>\n",
       "      <td>17</td>\n",
       "      <td>18</td>\n",
       "      <td>19</td>\n",
       "      <td>20</td>\n",
       "    </tr>\n",
       "  </tbody>\n",
       "</table>\n",
       "</div>"
      ],
      "text/plain": [
       "    0   1   2   3\n",
       "0   1   2   3   4\n",
       "1   5   6   7   8\n",
       "2   9  10  11  12\n",
       "3  13  14  15  16\n",
       "4  17  18  19  20"
      ]
     },
     "execution_count": 20,
     "metadata": {},
     "output_type": "execute_result"
    }
   ],
   "source": [
    "import numpy as np\n",
    "my_list = [[1,2,3,4],\n",
    "           [5,6,7,8],\n",
    "           [9,10,11,12],\n",
    "           [13,14,15,16],\n",
    "           [17,18,19,20]]\n",
    "\n",
    "numpyArray = np.array(my_list)\n",
    "\n",
    "df = pd.DataFrame(numpyArray)\n",
    "df"
   ]
  },
  {
   "cell_type": "markdown",
   "metadata": {
    "slideshow": {
     "slide_type": "subslide"
    },
    "tags": []
   },
   "source": [
    "\n",
    "<h3 style=\"color:green; font-family: 'Nunito Sans', sans-serif;\">From files</h3>\n"
   ]
  },
  {
   "cell_type": "markdown",
   "metadata": {
    "id": "HeggdwGYpxfL",
    "slideshow": {
     "slide_type": "subslide"
    },
    "tags": []
   },
   "source": [
    "<h3 style=\"color:green; font-family: 'Nunito Sans', sans-serif;\">Reading from File</h3>\n",
    "\n",
    "There are lot of ways to import a file content into pandas_dataframe, however the commonly used functions are\n",
    "\n",
    "- `read_csv`\n",
    "- `read_html`\n",
    "- `read_json`\n",
    "- `read_sql`\n",
    "- `read_pickle`\n",
    "- `read_clipboard`\n",
    "- `read_xml`\n",
    "- `read_excel`\n",
    "\n"
   ]
  },
  {
   "cell_type": "markdown",
   "metadata": {
    "slideshow": {
     "slide_type": "subslide"
    },
    "tags": []
   },
   "source": [
    "<h3 style=\"color:green; font-family: 'Nunito Sans', sans-serif;\">Read from csv</h3>\n",
    "\n",
    "The pandas read_csv function has multiple arguments which can help us extract the data in the way we desire. \n",
    "\n",
    "Some of these parameters are \n",
    "- seperator\n",
    "- demiliter\n",
    "- header\n",
    "- index\n",
    "- use_cols\n",
    "\n",
    "Lets see how to read a CSV file into the Dataframe"
   ]
  },
  {
   "cell_type": "code",
   "execution_count": 21,
   "metadata": {
    "colab": {
     "base_uri": "https://localhost:8080/",
     "height": 423
    },
    "id": "-iV3HmTmpJP8",
    "outputId": "19c6d80d-addd-491f-caad-d3b6a4320172",
    "slideshow": {
     "slide_type": "fragment"
    },
    "tags": []
   },
   "outputs": [
    {
     "data": {
      "text/html": [
       "<div>\n",
       "<style scoped>\n",
       "    .dataframe tbody tr th:only-of-type {\n",
       "        vertical-align: middle;\n",
       "    }\n",
       "\n",
       "    .dataframe tbody tr th {\n",
       "        vertical-align: top;\n",
       "    }\n",
       "\n",
       "    .dataframe thead th {\n",
       "        text-align: right;\n",
       "    }\n",
       "</style>\n",
       "<table border=\"1\" class=\"dataframe\">\n",
       "  <thead>\n",
       "    <tr style=\"text-align: right;\">\n",
       "      <th></th>\n",
       "      <th>Date</th>\n",
       "      <th>Confirmed</th>\n",
       "      <th>Deceased</th>\n",
       "      <th>Recovered</th>\n",
       "    </tr>\n",
       "  </thead>\n",
       "  <tbody>\n",
       "    <tr>\n",
       "      <th>0</th>\n",
       "      <td>2020-07-01</td>\n",
       "      <td>16514</td>\n",
       "      <td>253</td>\n",
       "      <td>8065</td>\n",
       "    </tr>\n",
       "    <tr>\n",
       "      <th>1</th>\n",
       "      <td>2020-07-02</td>\n",
       "      <td>1502</td>\n",
       "      <td>19</td>\n",
       "      <td>271</td>\n",
       "    </tr>\n",
       "    <tr>\n",
       "      <th>2</th>\n",
       "      <td>2020-07-03</td>\n",
       "      <td>1694</td>\n",
       "      <td>21</td>\n",
       "      <td>471</td>\n",
       "    </tr>\n",
       "    <tr>\n",
       "      <th>3</th>\n",
       "      <td>2020-07-04</td>\n",
       "      <td>1839</td>\n",
       "      <td>42</td>\n",
       "      <td>439</td>\n",
       "    </tr>\n",
       "    <tr>\n",
       "      <th>4</th>\n",
       "      <td>2020-07-05</td>\n",
       "      <td>1925</td>\n",
       "      <td>37</td>\n",
       "      <td>603</td>\n",
       "    </tr>\n",
       "    <tr>\n",
       "      <th>...</th>\n",
       "      <td>...</td>\n",
       "      <td>...</td>\n",
       "      <td>...</td>\n",
       "      <td>...</td>\n",
       "    </tr>\n",
       "    <tr>\n",
       "      <th>368</th>\n",
       "      <td>2021-07-04</td>\n",
       "      <td>1564</td>\n",
       "      <td>59</td>\n",
       "      <td>4775</td>\n",
       "    </tr>\n",
       "    <tr>\n",
       "      <th>369</th>\n",
       "      <td>2021-07-05</td>\n",
       "      <td>2848</td>\n",
       "      <td>67</td>\n",
       "      <td>5631</td>\n",
       "    </tr>\n",
       "    <tr>\n",
       "      <th>370</th>\n",
       "      <td>2021-07-06</td>\n",
       "      <td>3104</td>\n",
       "      <td>92</td>\n",
       "      <td>4992</td>\n",
       "    </tr>\n",
       "    <tr>\n",
       "      <th>371</th>\n",
       "      <td>2021-07-07</td>\n",
       "      <td>2743</td>\n",
       "      <td>75</td>\n",
       "      <td>3081</td>\n",
       "    </tr>\n",
       "    <tr>\n",
       "      <th>372</th>\n",
       "      <td>2021-07-08</td>\n",
       "      <td>2530</td>\n",
       "      <td>62</td>\n",
       "      <td>3342</td>\n",
       "    </tr>\n",
       "  </tbody>\n",
       "</table>\n",
       "<p>373 rows × 4 columns</p>\n",
       "</div>"
      ],
      "text/plain": [
       "           Date  Confirmed  Deceased  Recovered\n",
       "0    2020-07-01      16514       253       8065\n",
       "1    2020-07-02       1502        19        271\n",
       "2    2020-07-03       1694        21        471\n",
       "3    2020-07-04       1839        42        439\n",
       "4    2020-07-05       1925        37        603\n",
       "..          ...        ...       ...        ...\n",
       "368  2021-07-04       1564        59       4775\n",
       "369  2021-07-05       2848        67       5631\n",
       "370  2021-07-06       3104        92       4992\n",
       "371  2021-07-07       2743        75       3081\n",
       "372  2021-07-08       2530        62       3342\n",
       "\n",
       "[373 rows x 4 columns]"
      ]
     },
     "execution_count": 21,
     "metadata": {},
     "output_type": "execute_result"
    }
   ],
   "source": [
    "#reading from CSV file to dataframe\n",
    "df_master =  pd.read_csv(\"https://docs.google.com/spreadsheets/d/e/2PACX-1vSUiVcSNGwjgoxrJVr_3uCGJDvqWmk6y1AGao_U7calomMVwLVV2F5CJzWE-2Nyw0uuGllj7eOC8oQR/pub?output=csv\",header=0)\n",
    "df_master"
   ]
  },
  {
   "cell_type": "markdown",
   "metadata": {
    "id": "uZbeyEzSqFLU",
    "slideshow": {
     "slide_type": "slide"
    },
    "tags": []
   },
   "source": [
    "<h2 style=\"color:green; font-family: 'Nunito Sans', sans-serif;\">Basic Operations </h2>\n"
   ]
  },
  {
   "cell_type": "markdown",
   "metadata": {
    "slideshow": {
     "slide_type": "subslide"
    },
    "tags": []
   },
   "source": [
    "<h3 style=\"color:green; font-family: 'Nunito Sans', sans-serif;\">View first n records </h3>\n"
   ]
  },
  {
   "cell_type": "code",
   "execution_count": 22,
   "metadata": {
    "colab": {
     "base_uri": "https://localhost:8080/",
     "height": 363
    },
    "id": "E4r-ey1SqMPx",
    "outputId": "654a3634-0ecc-4746-f708-13ac1c857058",
    "slideshow": {
     "slide_type": "fragment"
    },
    "tags": []
   },
   "outputs": [
    {
     "data": {
      "text/html": [
       "<div>\n",
       "<style scoped>\n",
       "    .dataframe tbody tr th:only-of-type {\n",
       "        vertical-align: middle;\n",
       "    }\n",
       "\n",
       "    .dataframe tbody tr th {\n",
       "        vertical-align: top;\n",
       "    }\n",
       "\n",
       "    .dataframe thead th {\n",
       "        text-align: right;\n",
       "    }\n",
       "</style>\n",
       "<table border=\"1\" class=\"dataframe\">\n",
       "  <thead>\n",
       "    <tr style=\"text-align: right;\">\n",
       "      <th></th>\n",
       "      <th>Date</th>\n",
       "      <th>Confirmed</th>\n",
       "      <th>Deceased</th>\n",
       "      <th>Recovered</th>\n",
       "    </tr>\n",
       "  </thead>\n",
       "  <tbody>\n",
       "    <tr>\n",
       "      <th>0</th>\n",
       "      <td>2020-07-01</td>\n",
       "      <td>16514</td>\n",
       "      <td>253</td>\n",
       "      <td>8065</td>\n",
       "    </tr>\n",
       "    <tr>\n",
       "      <th>1</th>\n",
       "      <td>2020-07-02</td>\n",
       "      <td>1502</td>\n",
       "      <td>19</td>\n",
       "      <td>271</td>\n",
       "    </tr>\n",
       "    <tr>\n",
       "      <th>2</th>\n",
       "      <td>2020-07-03</td>\n",
       "      <td>1694</td>\n",
       "      <td>21</td>\n",
       "      <td>471</td>\n",
       "    </tr>\n",
       "    <tr>\n",
       "      <th>3</th>\n",
       "      <td>2020-07-04</td>\n",
       "      <td>1839</td>\n",
       "      <td>42</td>\n",
       "      <td>439</td>\n",
       "    </tr>\n",
       "    <tr>\n",
       "      <th>4</th>\n",
       "      <td>2020-07-05</td>\n",
       "      <td>1925</td>\n",
       "      <td>37</td>\n",
       "      <td>603</td>\n",
       "    </tr>\n",
       "  </tbody>\n",
       "</table>\n",
       "</div>"
      ],
      "text/plain": [
       "         Date  Confirmed  Deceased  Recovered\n",
       "0  2020-07-01      16514       253       8065\n",
       "1  2020-07-02       1502        19        271\n",
       "2  2020-07-03       1694        21        471\n",
       "3  2020-07-04       1839        42        439\n",
       "4  2020-07-05       1925        37        603"
      ]
     },
     "execution_count": 22,
     "metadata": {},
     "output_type": "execute_result"
    }
   ],
   "source": [
    "df_master.head(5)"
   ]
  },
  {
   "cell_type": "markdown",
   "metadata": {
    "id": "qb7qcEd1qV1i",
    "slideshow": {
     "slide_type": "subslide"
    },
    "tags": []
   },
   "source": [
    "<h3 style=\"color:green; font-family: 'Nunito Sans', sans-serif;\">View last n records </h3>\n"
   ]
  },
  {
   "cell_type": "code",
   "execution_count": 23,
   "metadata": {
    "colab": {
     "base_uri": "https://localhost:8080/",
     "height": 363
    },
    "id": "TVKynlmAqY7K",
    "outputId": "b81e652e-1c17-4990-c192-28d5df02bc35",
    "slideshow": {
     "slide_type": "fragment"
    },
    "tags": []
   },
   "outputs": [
    {
     "data": {
      "text/html": [
       "<div>\n",
       "<style scoped>\n",
       "    .dataframe tbody tr th:only-of-type {\n",
       "        vertical-align: middle;\n",
       "    }\n",
       "\n",
       "    .dataframe tbody tr th {\n",
       "        vertical-align: top;\n",
       "    }\n",
       "\n",
       "    .dataframe thead th {\n",
       "        text-align: right;\n",
       "    }\n",
       "</style>\n",
       "<table border=\"1\" class=\"dataframe\">\n",
       "  <thead>\n",
       "    <tr style=\"text-align: right;\">\n",
       "      <th></th>\n",
       "      <th>Date</th>\n",
       "      <th>Confirmed</th>\n",
       "      <th>Deceased</th>\n",
       "      <th>Recovered</th>\n",
       "    </tr>\n",
       "  </thead>\n",
       "  <tbody>\n",
       "    <tr>\n",
       "      <th>368</th>\n",
       "      <td>2021-07-04</td>\n",
       "      <td>1564</td>\n",
       "      <td>59</td>\n",
       "      <td>4775</td>\n",
       "    </tr>\n",
       "    <tr>\n",
       "      <th>369</th>\n",
       "      <td>2021-07-05</td>\n",
       "      <td>2848</td>\n",
       "      <td>67</td>\n",
       "      <td>5631</td>\n",
       "    </tr>\n",
       "    <tr>\n",
       "      <th>370</th>\n",
       "      <td>2021-07-06</td>\n",
       "      <td>3104</td>\n",
       "      <td>92</td>\n",
       "      <td>4992</td>\n",
       "    </tr>\n",
       "    <tr>\n",
       "      <th>371</th>\n",
       "      <td>2021-07-07</td>\n",
       "      <td>2743</td>\n",
       "      <td>75</td>\n",
       "      <td>3081</td>\n",
       "    </tr>\n",
       "    <tr>\n",
       "      <th>372</th>\n",
       "      <td>2021-07-08</td>\n",
       "      <td>2530</td>\n",
       "      <td>62</td>\n",
       "      <td>3342</td>\n",
       "    </tr>\n",
       "  </tbody>\n",
       "</table>\n",
       "</div>"
      ],
      "text/plain": [
       "           Date  Confirmed  Deceased  Recovered\n",
       "368  2021-07-04       1564        59       4775\n",
       "369  2021-07-05       2848        67       5631\n",
       "370  2021-07-06       3104        92       4992\n",
       "371  2021-07-07       2743        75       3081\n",
       "372  2021-07-08       2530        62       3342"
      ]
     },
     "execution_count": 23,
     "metadata": {},
     "output_type": "execute_result"
    }
   ],
   "source": [
    "df_master.tail(5)"
   ]
  },
  {
   "cell_type": "markdown",
   "metadata": {
    "id": "qb7qcEd1qV1i",
    "slideshow": {
     "slide_type": "subslide"
    },
    "tags": []
   },
   "source": [
    "<h3 style=\"color:green; font-family: 'Nunito Sans', sans-serif;\">Shape</h3>\n"
   ]
  },
  {
   "cell_type": "code",
   "execution_count": 24,
   "metadata": {
    "colab": {
     "base_uri": "https://localhost:8080/",
     "height": 363
    },
    "id": "TVKynlmAqY7K",
    "outputId": "b81e652e-1c17-4990-c192-28d5df02bc35",
    "slideshow": {
     "slide_type": "fragment"
    },
    "tags": []
   },
   "outputs": [
    {
     "data": {
      "text/plain": [
       "(373, 4)"
      ]
     },
     "execution_count": 24,
     "metadata": {},
     "output_type": "execute_result"
    }
   ],
   "source": [
    "df_master.shape"
   ]
  },
  {
   "cell_type": "markdown",
   "metadata": {
    "id": "qb7qcEd1qV1i",
    "slideshow": {
     "slide_type": "subslide"
    },
    "tags": []
   },
   "source": [
    "<h3 style=\"color:green; font-family: 'Nunito Sans', sans-serif;\">n-Dim </h3>\n"
   ]
  },
  {
   "cell_type": "code",
   "execution_count": 25,
   "metadata": {
    "colab": {
     "base_uri": "https://localhost:8080/",
     "height": 363
    },
    "id": "TVKynlmAqY7K",
    "outputId": "b81e652e-1c17-4990-c192-28d5df02bc35",
    "slideshow": {
     "slide_type": "fragment"
    },
    "tags": []
   },
   "outputs": [
    {
     "data": {
      "text/plain": [
       "2"
      ]
     },
     "execution_count": 25,
     "metadata": {},
     "output_type": "execute_result"
    }
   ],
   "source": [
    "df_master.ndim"
   ]
  },
  {
   "cell_type": "markdown",
   "metadata": {
    "id": "qb7qcEd1qV1i",
    "slideshow": {
     "slide_type": "subslide"
    },
    "tags": []
   },
   "source": [
    "<h3 style=\"color:green; font-family: 'Nunito Sans', sans-serif;\">View columns </h3>\n"
   ]
  },
  {
   "cell_type": "code",
   "execution_count": 26,
   "metadata": {
    "colab": {
     "base_uri": "https://localhost:8080/",
     "height": 363
    },
    "id": "TVKynlmAqY7K",
    "outputId": "b81e652e-1c17-4990-c192-28d5df02bc35",
    "slideshow": {
     "slide_type": "fragment"
    },
    "tags": []
   },
   "outputs": [
    {
     "data": {
      "text/plain": [
       "Index(['Date', 'Confirmed', 'Deceased', 'Recovered'], dtype='object')"
      ]
     },
     "execution_count": 26,
     "metadata": {},
     "output_type": "execute_result"
    }
   ],
   "source": [
    "df_master.columns"
   ]
  },
  {
   "cell_type": "markdown",
   "metadata": {
    "id": "IuJGmh6oqo2M",
    "slideshow": {
     "slide_type": "slide"
    },
    "tags": []
   },
   "source": [
    "<h2 style=\"color:green; font-family: 'Nunito Sans', sans-serif;\">Exploratory Data Analysis with pandas</h2>\n",
    "\n"
   ]
  },
  {
   "cell_type": "markdown",
   "metadata": {
    "slideshow": {
     "slide_type": "subslide"
    },
    "tags": []
   },
   "source": [
    "<h3 style=\"color:green; font-family: 'Nunito Sans', sans-serif;\">Describe</h3>\n",
    "\n",
    "<div style=\"color:black; font-family: 'Quicksand', sans-serif;font-weight:500\">\n",
    "\n",
    "Return a statistical summary for numerical columns present in the dataset. This method calculates some statistical measures like percentile, mean and standard deviation of the numerical values of the Series or DataFrame.\n",
    "    \n",
    "</div>"
   ]
  },
  {
   "cell_type": "code",
   "execution_count": 27,
   "metadata": {
    "colab": {
     "base_uri": "https://localhost:8080/",
     "height": 300
    },
    "id": "Qmc7utj8qrls",
    "outputId": "bffca9cb-3269-4d24-a77c-2fd0f721f8a7",
    "slideshow": {
     "slide_type": "fragment"
    },
    "tags": []
   },
   "outputs": [
    {
     "data": {
      "text/html": [
       "<div>\n",
       "<style scoped>\n",
       "    .dataframe tbody tr th:only-of-type {\n",
       "        vertical-align: middle;\n",
       "    }\n",
       "\n",
       "    .dataframe tbody tr th {\n",
       "        vertical-align: top;\n",
       "    }\n",
       "\n",
       "    .dataframe thead th {\n",
       "        text-align: right;\n",
       "    }\n",
       "</style>\n",
       "<table border=\"1\" class=\"dataframe\">\n",
       "  <thead>\n",
       "    <tr style=\"text-align: right;\">\n",
       "      <th></th>\n",
       "      <th>Confirmed</th>\n",
       "      <th>Deceased</th>\n",
       "      <th>Recovered</th>\n",
       "    </tr>\n",
       "  </thead>\n",
       "  <tbody>\n",
       "    <tr>\n",
       "      <th>count</th>\n",
       "      <td>373.000000</td>\n",
       "      <td>373.000000</td>\n",
       "      <td>373.000000</td>\n",
       "    </tr>\n",
       "    <tr>\n",
       "      <th>mean</th>\n",
       "      <td>7680.611260</td>\n",
       "      <td>95.611260</td>\n",
       "      <td>7481.107239</td>\n",
       "    </tr>\n",
       "    <tr>\n",
       "      <th>std</th>\n",
       "      <td>10548.099674</td>\n",
       "      <td>129.070422</td>\n",
       "      <td>10673.660965</td>\n",
       "    </tr>\n",
       "    <tr>\n",
       "      <th>min</th>\n",
       "      <td>317.000000</td>\n",
       "      <td>1.000000</td>\n",
       "      <td>271.000000</td>\n",
       "    </tr>\n",
       "    <tr>\n",
       "      <th>25%</th>\n",
       "      <td>1196.000000</td>\n",
       "      <td>9.000000</td>\n",
       "      <td>1003.000000</td>\n",
       "    </tr>\n",
       "    <tr>\n",
       "      <th>50%</th>\n",
       "      <td>3979.000000</td>\n",
       "      <td>59.000000</td>\n",
       "      <td>3487.000000</td>\n",
       "    </tr>\n",
       "    <tr>\n",
       "      <th>75%</th>\n",
       "      <td>8793.000000</td>\n",
       "      <td>115.000000</td>\n",
       "      <td>8456.000000</td>\n",
       "    </tr>\n",
       "    <tr>\n",
       "      <th>max</th>\n",
       "      <td>50112.000000</td>\n",
       "      <td>624.000000</td>\n",
       "      <td>61766.000000</td>\n",
       "    </tr>\n",
       "  </tbody>\n",
       "</table>\n",
       "</div>"
      ],
      "text/plain": [
       "          Confirmed    Deceased     Recovered\n",
       "count    373.000000  373.000000    373.000000\n",
       "mean    7680.611260   95.611260   7481.107239\n",
       "std    10548.099674  129.070422  10673.660965\n",
       "min      317.000000    1.000000    271.000000\n",
       "25%     1196.000000    9.000000   1003.000000\n",
       "50%     3979.000000   59.000000   3487.000000\n",
       "75%     8793.000000  115.000000   8456.000000\n",
       "max    50112.000000  624.000000  61766.000000"
      ]
     },
     "execution_count": 27,
     "metadata": {},
     "output_type": "execute_result"
    }
   ],
   "source": [
    "df_master.describe()"
   ]
  },
  {
   "cell_type": "markdown",
   "metadata": {
    "slideshow": {
     "slide_type": "subslide"
    },
    "tags": []
   },
   "source": [
    "<h3 style=\"color:green; font-family: 'Nunito Sans', sans-serif;\">Sample</h3>\n",
    "\n",
    "<div style=\"color:black; font-family: 'Quicksand', sans-serif;font-weight:500\">\n",
    "\n",
    "Used to generate a sample randomly either row or column. It allows you to select values randomly from a Series or DataFrame. It is useful when we want to select a random sample from a distribution.\n",
    "    \n",
    "</div>"
   ]
  },
  {
   "cell_type": "code",
   "execution_count": 28,
   "metadata": {
    "colab": {
     "base_uri": "https://localhost:8080/",
     "height": 300
    },
    "id": "Qmc7utj8qrls",
    "outputId": "bffca9cb-3269-4d24-a77c-2fd0f721f8a7",
    "slideshow": {
     "slide_type": "fragment"
    },
    "tags": []
   },
   "outputs": [
    {
     "data": {
      "text/html": [
       "<div>\n",
       "<style scoped>\n",
       "    .dataframe tbody tr th:only-of-type {\n",
       "        vertical-align: middle;\n",
       "    }\n",
       "\n",
       "    .dataframe tbody tr th {\n",
       "        vertical-align: top;\n",
       "    }\n",
       "\n",
       "    .dataframe thead th {\n",
       "        text-align: right;\n",
       "    }\n",
       "</style>\n",
       "<table border=\"1\" class=\"dataframe\">\n",
       "  <thead>\n",
       "    <tr style=\"text-align: right;\">\n",
       "      <th></th>\n",
       "      <th>Date</th>\n",
       "      <th>Confirmed</th>\n",
       "      <th>Deceased</th>\n",
       "      <th>Recovered</th>\n",
       "    </tr>\n",
       "  </thead>\n",
       "  <tbody>\n",
       "    <tr>\n",
       "      <th>215</th>\n",
       "      <td>2021-02-01</td>\n",
       "      <td>388</td>\n",
       "      <td>3</td>\n",
       "      <td>470</td>\n",
       "    </tr>\n",
       "  </tbody>\n",
       "</table>\n",
       "</div>"
      ],
      "text/plain": [
       "           Date  Confirmed  Deceased  Recovered\n",
       "215  2021-02-01        388         3        470"
      ]
     },
     "execution_count": 28,
     "metadata": {},
     "output_type": "execute_result"
    }
   ],
   "source": [
    "df_master.sample()"
   ]
  },
  {
   "cell_type": "markdown",
   "metadata": {
    "slideshow": {
     "slide_type": "subslide"
    },
    "tags": []
   },
   "source": [
    "<h3 style=\"color:green; font-family: 'Nunito Sans', sans-serif;\">Get all null Values</h3>\n",
    "\n",
    "<div style=\"color:black; font-family: 'Quicksand', sans-serif;font-weight:500\">\n",
    "\n",
    "Return the number of missing values in each column.\n",
    "    \n",
    "</div>"
   ]
  },
  {
   "cell_type": "code",
   "execution_count": 29,
   "metadata": {
    "colab": {
     "base_uri": "https://localhost:8080/",
     "height": 300
    },
    "id": "Qmc7utj8qrls",
    "outputId": "bffca9cb-3269-4d24-a77c-2fd0f721f8a7",
    "slideshow": {
     "slide_type": "fragment"
    },
    "tags": []
   },
   "outputs": [
    {
     "data": {
      "text/plain": [
       "Date         0\n",
       "Confirmed    0\n",
       "Deceased     0\n",
       "Recovered    0\n",
       "dtype: int64"
      ]
     },
     "execution_count": 29,
     "metadata": {},
     "output_type": "execute_result"
    }
   ],
   "source": [
    "# df_test = df_master\n",
    "# df_test.iloc[10,2] = None\n",
    "# df_test.isNull().sum()\n",
    "df_master.isnull().sum()"
   ]
  },
  {
   "cell_type": "markdown",
   "metadata": {
    "slideshow": {
     "slide_type": "subslide"
    },
    "tags": []
   },
   "source": [
    "<h3 style=\"color:green; font-family: 'Nunito Sans', sans-serif;\">Get number of unique values</h3>\n",
    "\n",
    "<div style=\"color:black; font-family: 'Quicksand', sans-serif;font-weight:500\">\n",
    "\n",
    "    Return number of unique elements in the object. It counts the number of unique entries over columns or rows. It is very useful in categorical features especially in cases where we do not know the number of categories beforehand.\n",
    "    \n",
    "</div>"
   ]
  },
  {
   "cell_type": "code",
   "execution_count": 30,
   "metadata": {
    "colab": {
     "base_uri": "https://localhost:8080/",
     "height": 300
    },
    "id": "Qmc7utj8qrls",
    "outputId": "bffca9cb-3269-4d24-a77c-2fd0f721f8a7",
    "slideshow": {
     "slide_type": "fragment"
    },
    "tags": []
   },
   "outputs": [
    {
     "data": {
      "text/plain": [
       "Date         373\n",
       "Confirmed    367\n",
       "Deceased     166\n",
       "Recovered    368\n",
       "dtype: int64"
      ]
     },
     "execution_count": 30,
     "metadata": {},
     "output_type": "execute_result"
    }
   ],
   "source": [
    "df_master.nunique( )"
   ]
  },
  {
   "cell_type": "markdown",
   "metadata": {
    "slideshow": {
     "slide_type": "subslide"
    },
    "tags": []
   },
   "source": [
    "<h3 style=\"color:green; font-family: 'Nunito Sans', sans-serif;\">Get all Largest Values</h3>\n",
    "\n",
    "<div style=\"color:black; font-family: 'Quicksand', sans-serif;font-weight:500\">\n",
    "\n",
    "Returns the first n rows ordered by columns in descending order.\n",
    "    \n",
    "</div>"
   ]
  },
  {
   "cell_type": "code",
   "execution_count": 31,
   "metadata": {
    "colab": {
     "base_uri": "https://localhost:8080/",
     "height": 300
    },
    "id": "Qmc7utj8qrls",
    "outputId": "bffca9cb-3269-4d24-a77c-2fd0f721f8a7",
    "slideshow": {
     "slide_type": "fragment"
    },
    "tags": []
   },
   "outputs": [
    {
     "data": {
      "text/html": [
       "<div>\n",
       "<style scoped>\n",
       "    .dataframe tbody tr th:only-of-type {\n",
       "        vertical-align: middle;\n",
       "    }\n",
       "\n",
       "    .dataframe tbody tr th {\n",
       "        vertical-align: top;\n",
       "    }\n",
       "\n",
       "    .dataframe thead th {\n",
       "        text-align: right;\n",
       "    }\n",
       "</style>\n",
       "<table border=\"1\" class=\"dataframe\">\n",
       "  <thead>\n",
       "    <tr style=\"text-align: right;\">\n",
       "      <th></th>\n",
       "      <th>Date</th>\n",
       "      <th>Confirmed</th>\n",
       "      <th>Deceased</th>\n",
       "      <th>Recovered</th>\n",
       "    </tr>\n",
       "  </thead>\n",
       "  <tbody>\n",
       "    <tr>\n",
       "      <th>308</th>\n",
       "      <td>2021-05-05</td>\n",
       "      <td>50112</td>\n",
       "      <td>346</td>\n",
       "      <td>26841</td>\n",
       "    </tr>\n",
       "    <tr>\n",
       "      <th>309</th>\n",
       "      <td>2021-05-06</td>\n",
       "      <td>49058</td>\n",
       "      <td>328</td>\n",
       "      <td>18943</td>\n",
       "    </tr>\n",
       "    <tr>\n",
       "      <th>310</th>\n",
       "      <td>2021-05-07</td>\n",
       "      <td>48781</td>\n",
       "      <td>592</td>\n",
       "      <td>28623</td>\n",
       "    </tr>\n",
       "    <tr>\n",
       "      <th>303</th>\n",
       "      <td>2021-04-30</td>\n",
       "      <td>48296</td>\n",
       "      <td>217</td>\n",
       "      <td>14884</td>\n",
       "    </tr>\n",
       "  </tbody>\n",
       "</table>\n",
       "</div>"
      ],
      "text/plain": [
       "           Date  Confirmed  Deceased  Recovered\n",
       "308  2021-05-05      50112       346      26841\n",
       "309  2021-05-06      49058       328      18943\n",
       "310  2021-05-07      48781       592      28623\n",
       "303  2021-04-30      48296       217      14884"
      ]
     },
     "execution_count": 31,
     "metadata": {},
     "output_type": "execute_result"
    }
   ],
   "source": [
    "df_master.nlargest(4,\"Confirmed\")"
   ]
  },
  {
   "cell_type": "markdown",
   "metadata": {
    "slideshow": {
     "slide_type": "subslide"
    },
    "tags": []
   },
   "source": [
    "<h3 style=\"color:green; font-family: 'Nunito Sans', sans-serif;\">Get datatype of Columns</h3>\n",
    "\n",
    "<div style=\"color:black; font-family: 'Quicksand', sans-serif;font-weight:500\">\n",
    "\n",
    "It helps in getting a quick overview of the dataset. This function is used to get a brief summary of the dataframe. This method prints information about a DataFrame including the index dtype and column dtypes, non-null values, and memory usage.\n",
    "    \n",
    "</div>"
   ]
  },
  {
   "cell_type": "code",
   "execution_count": 32,
   "metadata": {
    "colab": {
     "base_uri": "https://localhost:8080/",
     "height": 300
    },
    "id": "Qmc7utj8qrls",
    "outputId": "bffca9cb-3269-4d24-a77c-2fd0f721f8a7",
    "slideshow": {
     "slide_type": "fragment"
    },
    "tags": []
   },
   "outputs": [
    {
     "name": "stdout",
     "output_type": "stream",
     "text": [
      "<class 'pandas.core.frame.DataFrame'>\n",
      "RangeIndex: 373 entries, 0 to 372\n",
      "Data columns (total 4 columns):\n",
      " #   Column     Non-Null Count  Dtype \n",
      "---  ------     --------------  ----- \n",
      " 0   Date       373 non-null    object\n",
      " 1   Confirmed  373 non-null    int64 \n",
      " 2   Deceased   373 non-null    int64 \n",
      " 3   Recovered  373 non-null    int64 \n",
      "dtypes: int64(3), object(1)\n",
      "memory usage: 11.8+ KB\n"
     ]
    }
   ],
   "source": [
    "df_master.info()"
   ]
  },
  {
   "cell_type": "markdown",
   "metadata": {
    "slideshow": {
     "slide_type": "subslide"
    },
    "tags": []
   },
   "source": [
    "<h3 style=\"color:green; font-family: 'Nunito Sans', sans-serif;\">Get Distribution of Data</h3>\n",
    "\n",
    "<div style=\"color:black; font-family: 'Quicksand', sans-serif;font-weight:500\">\n",
    "\n",
    "This function is used to get a Series containing counts of unique values. The resulting object will be in descending order so that the first element is the most frequently occurring element. It excludes missing values by default. This function comes in handy when we want to check the problem of class imbalance for a categorical variable.\n",
    "    \n",
    "</div>"
   ]
  },
  {
   "cell_type": "code",
   "execution_count": 33,
   "metadata": {
    "colab": {
     "base_uri": "https://localhost:8080/",
     "height": 300
    },
    "id": "Qmc7utj8qrls",
    "outputId": "bffca9cb-3269-4d24-a77c-2fd0f721f8a7",
    "slideshow": {
     "slide_type": "fragment"
    },
    "tags": []
   },
   "outputs": [
    {
     "data": {
      "text/plain": [
       "Confirmed\n",
       "8191    2\n",
       "1781    2\n",
       "571     2\n",
       "430     2\n",
       "2576    2\n",
       "Name: count, dtype: int64"
      ]
     },
     "execution_count": 33,
     "metadata": {},
     "output_type": "execute_result"
    }
   ],
   "source": [
    "df_master.Confirmed.value_counts().head(5)"
   ]
  },
  {
   "cell_type": "markdown",
   "metadata": {
    "slideshow": {
     "slide_type": "subslide"
    },
    "tags": []
   },
   "source": [
    "<h3 style=\"color:green; font-family: 'Nunito Sans', sans-serif;\">Get Correlation between Data</h3>\n",
    "\n",
    "<div style=\"color:black; font-family: 'Quicksand', sans-serif;font-weight:500\">\n",
    "\n",
    "- This function is used to find the pairwise correlation of all columns in the dataframe. \n",
    "- Any missing values are automatically excluded. For any non-numeric data type columns in the dataframe, it is ignored. \n",
    "- This function comes in handy while we doing the Feature Selection by observing the correlation between features and target variable or between variables.\n",
    "    \n",
    "</div>"
   ]
  },
  {
   "cell_type": "code",
   "execution_count": 35,
   "metadata": {
    "colab": {
     "base_uri": "https://localhost:8080/",
     "height": 300
    },
    "id": "Qmc7utj8qrls",
    "outputId": "bffca9cb-3269-4d24-a77c-2fd0f721f8a7",
    "slideshow": {
     "slide_type": "fragment"
    },
    "tags": []
   },
   "outputs": [],
   "source": [
    "# df_master[[\"Confirmed\", \"Recovered\", \"Deceased\"]].corr()\n",
    "# df_master.corr()"
   ]
  },
  {
   "cell_type": "markdown",
   "metadata": {
    "slideshow": {
     "slide_type": "subslide"
    },
    "tags": []
   },
   "source": [
    "<h3 style=\"color:green; font-family: 'Nunito Sans', sans-serif;\">Sorting the Data</h3>\n",
    "\n",
    "<div style=\"color:black; font-family: 'Quicksand', sans-serif;font-weight:500\">\n",
    "\n",
    "- Sort dataframe based on a column value\n",
    "    \n",
    "</div>"
   ]
  },
  {
   "cell_type": "code",
   "execution_count": 36,
   "metadata": {
    "colab": {
     "base_uri": "https://localhost:8080/",
     "height": 300
    },
    "id": "Qmc7utj8qrls",
    "outputId": "bffca9cb-3269-4d24-a77c-2fd0f721f8a7",
    "slideshow": {
     "slide_type": "fragment"
    },
    "tags": []
   },
   "outputs": [
    {
     "data": {
      "text/html": [
       "<div>\n",
       "<style scoped>\n",
       "    .dataframe tbody tr th:only-of-type {\n",
       "        vertical-align: middle;\n",
       "    }\n",
       "\n",
       "    .dataframe tbody tr th {\n",
       "        vertical-align: top;\n",
       "    }\n",
       "\n",
       "    .dataframe thead th {\n",
       "        text-align: right;\n",
       "    }\n",
       "</style>\n",
       "<table border=\"1\" class=\"dataframe\">\n",
       "  <thead>\n",
       "    <tr style=\"text-align: right;\">\n",
       "      <th></th>\n",
       "      <th>Date</th>\n",
       "      <th>Confirmed</th>\n",
       "      <th>Deceased</th>\n",
       "      <th>Recovered</th>\n",
       "    </tr>\n",
       "  </thead>\n",
       "  <tbody>\n",
       "    <tr>\n",
       "      <th>236</th>\n",
       "      <td>2021-02-22</td>\n",
       "      <td>317</td>\n",
       "      <td>5</td>\n",
       "      <td>287</td>\n",
       "    </tr>\n",
       "    <tr>\n",
       "      <th>205</th>\n",
       "      <td>2021-01-22</td>\n",
       "      <td>324</td>\n",
       "      <td>3</td>\n",
       "      <td>890</td>\n",
       "    </tr>\n",
       "    <tr>\n",
       "      <th>222</th>\n",
       "      <td>2021-02-08</td>\n",
       "      <td>328</td>\n",
       "      <td>3</td>\n",
       "      <td>350</td>\n",
       "    </tr>\n",
       "    <tr>\n",
       "      <th>238</th>\n",
       "      <td>2021-02-24</td>\n",
       "      <td>334</td>\n",
       "      <td>6</td>\n",
       "      <td>313</td>\n",
       "    </tr>\n",
       "    <tr>\n",
       "      <th>243</th>\n",
       "      <td>2021-03-01</td>\n",
       "      <td>349</td>\n",
       "      <td>5</td>\n",
       "      <td>324</td>\n",
       "    </tr>\n",
       "  </tbody>\n",
       "</table>\n",
       "</div>"
      ],
      "text/plain": [
       "           Date  Confirmed  Deceased  Recovered\n",
       "236  2021-02-22        317         5        287\n",
       "205  2021-01-22        324         3        890\n",
       "222  2021-02-08        328         3        350\n",
       "238  2021-02-24        334         6        313\n",
       "243  2021-03-01        349         5        324"
      ]
     },
     "execution_count": 36,
     "metadata": {},
     "output_type": "execute_result"
    }
   ],
   "source": [
    "df_master.sort_values(by=\"Confirmed\").head(5)"
   ]
  },
  {
   "cell_type": "markdown",
   "metadata": {
    "id": "52GIt1QNawOP",
    "slideshow": {
     "slide_type": "slide"
    },
    "tags": []
   },
   "source": [
    "\n",
    "<h2 style=\"color:green; font-family: 'Nunito Sans', sans-serif;\">Accessing the values in Dataframe</h2>\n",
    "\n"
   ]
  },
  {
   "cell_type": "markdown",
   "metadata": {
    "id": "R30uJutap8Ld",
    "slideshow": {
     "slide_type": "subslide"
    },
    "tags": []
   },
   "source": [
    "## 3. Indexing \n",
    "---\n",
    "\n",
    "Different ways to access data from the dataframe\n",
    "\n",
    "#### **Label vs Location**\n",
    "\n",
    "Label vs. Location\n",
    "The main distinction between the two methods is:\n",
    "\n",
    "loc gets rows (and/or columns) with particular labels.\n",
    "\n",
    "iloc gets rows (and/or columns) at integer locations.\n",
    "\n",
    "[Reference and Further Reading](https://stackoverflow.com/questions/31593201/how-are-iloc-and-loc-different)"
   ]
  },
  {
   "cell_type": "code",
   "execution_count": 37,
   "metadata": {
    "colab": {
     "base_uri": "https://localhost:8080/",
     "height": 519
    },
    "id": "XaikYbIbF_iW",
    "outputId": "729cfd07-4a94-4212-999a-58f5b400c3a7"
   },
   "outputs": [
    {
     "data": {
      "text/html": [
       "<div>\n",
       "<style scoped>\n",
       "    .dataframe tbody tr th:only-of-type {\n",
       "        vertical-align: middle;\n",
       "    }\n",
       "\n",
       "    .dataframe tbody tr th {\n",
       "        vertical-align: top;\n",
       "    }\n",
       "\n",
       "    .dataframe thead th {\n",
       "        text-align: right;\n",
       "    }\n",
       "</style>\n",
       "<table border=\"1\" class=\"dataframe\">\n",
       "  <thead>\n",
       "    <tr style=\"text-align: right;\">\n",
       "      <th></th>\n",
       "      <th>Confirmed</th>\n",
       "      <th>Deceased</th>\n",
       "    </tr>\n",
       "  </thead>\n",
       "  <tbody>\n",
       "    <tr>\n",
       "      <th>10</th>\n",
       "      <td>2798</td>\n",
       "      <td>70</td>\n",
       "    </tr>\n",
       "    <tr>\n",
       "      <th>11</th>\n",
       "      <td>2627</td>\n",
       "      <td>71</td>\n",
       "    </tr>\n",
       "    <tr>\n",
       "      <th>12</th>\n",
       "      <td>2738</td>\n",
       "      <td>73</td>\n",
       "    </tr>\n",
       "    <tr>\n",
       "      <th>13</th>\n",
       "      <td>2496</td>\n",
       "      <td>82</td>\n",
       "    </tr>\n",
       "    <tr>\n",
       "      <th>14</th>\n",
       "      <td>3176</td>\n",
       "      <td>87</td>\n",
       "    </tr>\n",
       "    <tr>\n",
       "      <th>15</th>\n",
       "      <td>4169</td>\n",
       "      <td>104</td>\n",
       "    </tr>\n",
       "    <tr>\n",
       "      <th>16</th>\n",
       "      <td>3693</td>\n",
       "      <td>115</td>\n",
       "    </tr>\n",
       "    <tr>\n",
       "      <th>17</th>\n",
       "      <td>4537</td>\n",
       "      <td>93</td>\n",
       "    </tr>\n",
       "    <tr>\n",
       "      <th>18</th>\n",
       "      <td>4120</td>\n",
       "      <td>91</td>\n",
       "    </tr>\n",
       "    <tr>\n",
       "      <th>19</th>\n",
       "      <td>3648</td>\n",
       "      <td>72</td>\n",
       "    </tr>\n",
       "    <tr>\n",
       "      <th>20</th>\n",
       "      <td>3649</td>\n",
       "      <td>61</td>\n",
       "    </tr>\n",
       "    <tr>\n",
       "      <th>21</th>\n",
       "      <td>4764</td>\n",
       "      <td>55</td>\n",
       "    </tr>\n",
       "    <tr>\n",
       "      <th>22</th>\n",
       "      <td>5030</td>\n",
       "      <td>97</td>\n",
       "    </tr>\n",
       "    <tr>\n",
       "      <th>23</th>\n",
       "      <td>5007</td>\n",
       "      <td>110</td>\n",
       "    </tr>\n",
       "    <tr>\n",
       "      <th>24</th>\n",
       "      <td>5072</td>\n",
       "      <td>72</td>\n",
       "    </tr>\n",
       "  </tbody>\n",
       "</table>\n",
       "</div>"
      ],
      "text/plain": [
       "    Confirmed  Deceased\n",
       "10       2798        70\n",
       "11       2627        71\n",
       "12       2738        73\n",
       "13       2496        82\n",
       "14       3176        87\n",
       "15       4169       104\n",
       "16       3693       115\n",
       "17       4537        93\n",
       "18       4120        91\n",
       "19       3648        72\n",
       "20       3649        61\n",
       "21       4764        55\n",
       "22       5030        97\n",
       "23       5007       110\n",
       "24       5072        72"
      ]
     },
     "execution_count": 37,
     "metadata": {},
     "output_type": "execute_result"
    }
   ],
   "source": [
    "df_master.loc[4][\"Confirmed\"]\n",
    "df_master.iloc[10:25,1:3]"
   ]
  },
  {
   "cell_type": "code",
   "execution_count": 38,
   "metadata": {
    "colab": {
     "base_uri": "https://localhost:8080/"
    },
    "id": "KhKyL35AqEbZ",
    "outputId": "cf278215-b958-4758-8db8-076ea200fc2d"
   },
   "outputs": [
    {
     "data": {
      "text/plain": [
       "Date         2020-07-05\n",
       "Confirmed          1925\n",
       "Deceased             37\n",
       "Recovered           603\n",
       "Name: 4, dtype: object"
      ]
     },
     "execution_count": 38,
     "metadata": {},
     "output_type": "execute_result"
    }
   ],
   "source": [
    "df_master.loc[4]  ## Index -- Rows\n",
    "# df.iloc[100:200,1:5]  ## indexing and Comuns\n",
    "# df.iloc[0,2]"
   ]
  },
  {
   "cell_type": "code",
   "execution_count": 39,
   "metadata": {
    "colab": {
     "base_uri": "https://localhost:8080/"
    },
    "id": "F6_jGLbSfbk0",
    "outputId": "6bcd8508-24b1-4372-8f9b-8081b6bce1d9"
   },
   "outputs": [
    {
     "data": {
      "text/plain": [
       "1925"
      ]
     },
     "execution_count": 39,
     "metadata": {},
     "output_type": "execute_result"
    }
   ],
   "source": [
    "## WE can also use df.at\n",
    "\n",
    "df_master.loc[4,\"Confirmed\"]"
   ]
  },
  {
   "cell_type": "markdown",
   "metadata": {
    "id": "l50tL1znrNzn"
   },
   "source": [
    "### Extraction of Data into Other Datatypes\n",
    "\n",
    "\n",
    "The entire dataframe or a specified column can be exported to formats like an `numpyArray` or a `list` by using the `to_numpy` or `to_list()` respectively\n",
    "\n",
    "\n",
    "\n"
   ]
  },
  {
   "cell_type": "code",
   "execution_count": 40,
   "metadata": {
    "colab": {
     "base_uri": "https://localhost:8080/",
     "height": 282
    },
    "id": "lfgAyNmOGaKL",
    "outputId": "b4a0b223-ed21-425d-9f63-ee0ee3afc167"
   },
   "outputs": [],
   "source": [
    "a = df_master[\"Confirmed\"].to_list()\n",
    "b = df_master[\"Confirmed\"].to_numpy()\n"
   ]
  },
  {
   "cell_type": "markdown",
   "metadata": {
    "id": "EZM0lSztGsOu"
   },
   "source": [
    "#### Adding columns to a Dataframe\n"
   ]
  },
  {
   "cell_type": "code",
   "execution_count": 41,
   "metadata": {
    "colab": {
     "base_uri": "https://localhost:8080/",
     "height": 423
    },
    "id": "Uam3N5WbGvCX",
    "outputId": "e8eb2069-99d3-4682-9196-fcafa89c14c6"
   },
   "outputs": [
    {
     "data": {
      "text/html": [
       "<div>\n",
       "<style scoped>\n",
       "    .dataframe tbody tr th:only-of-type {\n",
       "        vertical-align: middle;\n",
       "    }\n",
       "\n",
       "    .dataframe tbody tr th {\n",
       "        vertical-align: top;\n",
       "    }\n",
       "\n",
       "    .dataframe thead th {\n",
       "        text-align: right;\n",
       "    }\n",
       "</style>\n",
       "<table border=\"1\" class=\"dataframe\">\n",
       "  <thead>\n",
       "    <tr style=\"text-align: right;\">\n",
       "      <th></th>\n",
       "      <th>Date</th>\n",
       "      <th>Confirmed</th>\n",
       "      <th>Deceased</th>\n",
       "      <th>Recovered</th>\n",
       "      <th>NewColum</th>\n",
       "    </tr>\n",
       "  </thead>\n",
       "  <tbody>\n",
       "    <tr>\n",
       "      <th>0</th>\n",
       "      <td>2020-07-01</td>\n",
       "      <td>16514</td>\n",
       "      <td>253</td>\n",
       "      <td>8065</td>\n",
       "      <td>16767</td>\n",
       "    </tr>\n",
       "    <tr>\n",
       "      <th>1</th>\n",
       "      <td>2020-07-02</td>\n",
       "      <td>1502</td>\n",
       "      <td>19</td>\n",
       "      <td>271</td>\n",
       "      <td>1521</td>\n",
       "    </tr>\n",
       "    <tr>\n",
       "      <th>2</th>\n",
       "      <td>2020-07-03</td>\n",
       "      <td>1694</td>\n",
       "      <td>21</td>\n",
       "      <td>471</td>\n",
       "      <td>1715</td>\n",
       "    </tr>\n",
       "    <tr>\n",
       "      <th>3</th>\n",
       "      <td>2020-07-04</td>\n",
       "      <td>1839</td>\n",
       "      <td>42</td>\n",
       "      <td>439</td>\n",
       "      <td>1881</td>\n",
       "    </tr>\n",
       "    <tr>\n",
       "      <th>4</th>\n",
       "      <td>2020-07-05</td>\n",
       "      <td>1925</td>\n",
       "      <td>37</td>\n",
       "      <td>603</td>\n",
       "      <td>1962</td>\n",
       "    </tr>\n",
       "    <tr>\n",
       "      <th>...</th>\n",
       "      <td>...</td>\n",
       "      <td>...</td>\n",
       "      <td>...</td>\n",
       "      <td>...</td>\n",
       "      <td>...</td>\n",
       "    </tr>\n",
       "    <tr>\n",
       "      <th>368</th>\n",
       "      <td>2021-07-04</td>\n",
       "      <td>1564</td>\n",
       "      <td>59</td>\n",
       "      <td>4775</td>\n",
       "      <td>1623</td>\n",
       "    </tr>\n",
       "    <tr>\n",
       "      <th>369</th>\n",
       "      <td>2021-07-05</td>\n",
       "      <td>2848</td>\n",
       "      <td>67</td>\n",
       "      <td>5631</td>\n",
       "      <td>2915</td>\n",
       "    </tr>\n",
       "    <tr>\n",
       "      <th>370</th>\n",
       "      <td>2021-07-06</td>\n",
       "      <td>3104</td>\n",
       "      <td>92</td>\n",
       "      <td>4992</td>\n",
       "      <td>3196</td>\n",
       "    </tr>\n",
       "    <tr>\n",
       "      <th>371</th>\n",
       "      <td>2021-07-07</td>\n",
       "      <td>2743</td>\n",
       "      <td>75</td>\n",
       "      <td>3081</td>\n",
       "      <td>2818</td>\n",
       "    </tr>\n",
       "    <tr>\n",
       "      <th>372</th>\n",
       "      <td>2021-07-08</td>\n",
       "      <td>2530</td>\n",
       "      <td>62</td>\n",
       "      <td>3342</td>\n",
       "      <td>2592</td>\n",
       "    </tr>\n",
       "  </tbody>\n",
       "</table>\n",
       "<p>373 rows × 5 columns</p>\n",
       "</div>"
      ],
      "text/plain": [
       "           Date  Confirmed  Deceased  Recovered  NewColum\n",
       "0    2020-07-01      16514       253       8065     16767\n",
       "1    2020-07-02       1502        19        271      1521\n",
       "2    2020-07-03       1694        21        471      1715\n",
       "3    2020-07-04       1839        42        439      1881\n",
       "4    2020-07-05       1925        37        603      1962\n",
       "..          ...        ...       ...        ...       ...\n",
       "368  2021-07-04       1564        59       4775      1623\n",
       "369  2021-07-05       2848        67       5631      2915\n",
       "370  2021-07-06       3104        92       4992      3196\n",
       "371  2021-07-07       2743        75       3081      2818\n",
       "372  2021-07-08       2530        62       3342      2592\n",
       "\n",
       "[373 rows x 5 columns]"
      ]
     },
     "execution_count": 41,
     "metadata": {},
     "output_type": "execute_result"
    }
   ],
   "source": [
    "df_master[\"NewColum\"] = df_master[\"Confirmed\"] + df_master[\"Deceased\"]\n",
    "df_master"
   ]
  },
  {
   "cell_type": "markdown",
   "metadata": {
    "id": "ZoxIa3vPreux"
   },
   "source": [
    "## 4. Slicing and Conditional operators in DataFrames\n",
    "\n",
    "#### 4a. Obtain a Specific Column\n",
    "- Key based indexing\n",
    "- `loc` to obtain values based on rows\n",
    "- `iloc` to obtain values based on array like indexing"
   ]
  },
  {
   "cell_type": "code",
   "execution_count": 42,
   "metadata": {
    "colab": {
     "base_uri": "https://localhost:8080/",
     "height": 834
    },
    "id": "YZ_-PGZ-rfYJ",
    "outputId": "d146eaa5-c105-4f29-a1ba-d05f3e52bf85"
   },
   "outputs": [
    {
     "data": {
      "text/html": [
       "<div>\n",
       "<style scoped>\n",
       "    .dataframe tbody tr th:only-of-type {\n",
       "        vertical-align: middle;\n",
       "    }\n",
       "\n",
       "    .dataframe tbody tr th {\n",
       "        vertical-align: top;\n",
       "    }\n",
       "\n",
       "    .dataframe thead th {\n",
       "        text-align: right;\n",
       "    }\n",
       "</style>\n",
       "<table border=\"1\" class=\"dataframe\">\n",
       "  <thead>\n",
       "    <tr style=\"text-align: right;\">\n",
       "      <th></th>\n",
       "      <th>Date</th>\n",
       "      <th>Date_YMD</th>\n",
       "      <th>Status</th>\n",
       "      <th>Bagalkote</th>\n",
       "      <th>Ballari</th>\n",
       "      <th>Belagavi</th>\n",
       "      <th>BengaluruRural</th>\n",
       "      <th>BengaluruUrban</th>\n",
       "      <th>Bidar</th>\n",
       "      <th>Chamarajanagara</th>\n",
       "      <th>...</th>\n",
       "      <th>OtherState</th>\n",
       "      <th>Raichur</th>\n",
       "      <th>Ramanagara</th>\n",
       "      <th>Shivamogga</th>\n",
       "      <th>Tumakuru</th>\n",
       "      <th>Udupi</th>\n",
       "      <th>UttaraKannada</th>\n",
       "      <th>Vijayapura</th>\n",
       "      <th>Yadgir</th>\n",
       "      <th>Total</th>\n",
       "    </tr>\n",
       "  </thead>\n",
       "  <tbody>\n",
       "    <tr>\n",
       "      <th>10</th>\n",
       "      <td>04-Jul-20</td>\n",
       "      <td>2020-07-04</td>\n",
       "      <td>Recovered</td>\n",
       "      <td>0</td>\n",
       "      <td>20</td>\n",
       "      <td>10</td>\n",
       "      <td>0</td>\n",
       "      <td>195</td>\n",
       "      <td>12</td>\n",
       "      <td>0</td>\n",
       "      <td>...</td>\n",
       "      <td>0</td>\n",
       "      <td>18</td>\n",
       "      <td>0</td>\n",
       "      <td>0</td>\n",
       "      <td>11</td>\n",
       "      <td>10</td>\n",
       "      <td>8</td>\n",
       "      <td>24</td>\n",
       "      <td>0</td>\n",
       "      <td>439</td>\n",
       "    </tr>\n",
       "    <tr>\n",
       "      <th>11</th>\n",
       "      <td>04-Jul-20</td>\n",
       "      <td>2020-07-04</td>\n",
       "      <td>Deceased</td>\n",
       "      <td>0</td>\n",
       "      <td>0</td>\n",
       "      <td>0</td>\n",
       "      <td>1</td>\n",
       "      <td>24</td>\n",
       "      <td>6</td>\n",
       "      <td>0</td>\n",
       "      <td>...</td>\n",
       "      <td>0</td>\n",
       "      <td>0</td>\n",
       "      <td>0</td>\n",
       "      <td>0</td>\n",
       "      <td>0</td>\n",
       "      <td>0</td>\n",
       "      <td>0</td>\n",
       "      <td>0</td>\n",
       "      <td>0</td>\n",
       "      <td>42</td>\n",
       "    </tr>\n",
       "    <tr>\n",
       "      <th>12</th>\n",
       "      <td>05-Jul-20</td>\n",
       "      <td>2020-07-05</td>\n",
       "      <td>Confirmed</td>\n",
       "      <td>4</td>\n",
       "      <td>90</td>\n",
       "      <td>11</td>\n",
       "      <td>0</td>\n",
       "      <td>1235</td>\n",
       "      <td>29</td>\n",
       "      <td>19</td>\n",
       "      <td>...</td>\n",
       "      <td>0</td>\n",
       "      <td>10</td>\n",
       "      <td>6</td>\n",
       "      <td>8</td>\n",
       "      <td>13</td>\n",
       "      <td>45</td>\n",
       "      <td>21</td>\n",
       "      <td>51</td>\n",
       "      <td>0</td>\n",
       "      <td>1925</td>\n",
       "    </tr>\n",
       "    <tr>\n",
       "      <th>13</th>\n",
       "      <td>05-Jul-20</td>\n",
       "      <td>2020-07-05</td>\n",
       "      <td>Recovered</td>\n",
       "      <td>14</td>\n",
       "      <td>37</td>\n",
       "      <td>0</td>\n",
       "      <td>0</td>\n",
       "      <td>302</td>\n",
       "      <td>20</td>\n",
       "      <td>0</td>\n",
       "      <td>...</td>\n",
       "      <td>0</td>\n",
       "      <td>0</td>\n",
       "      <td>0</td>\n",
       "      <td>0</td>\n",
       "      <td>1</td>\n",
       "      <td>22</td>\n",
       "      <td>0</td>\n",
       "      <td>30</td>\n",
       "      <td>12</td>\n",
       "      <td>603</td>\n",
       "    </tr>\n",
       "    <tr>\n",
       "      <th>14</th>\n",
       "      <td>05-Jul-20</td>\n",
       "      <td>2020-07-05</td>\n",
       "      <td>Deceased</td>\n",
       "      <td>0</td>\n",
       "      <td>1</td>\n",
       "      <td>2</td>\n",
       "      <td>0</td>\n",
       "      <td>16</td>\n",
       "      <td>9</td>\n",
       "      <td>0</td>\n",
       "      <td>...</td>\n",
       "      <td>0</td>\n",
       "      <td>0</td>\n",
       "      <td>0</td>\n",
       "      <td>0</td>\n",
       "      <td>1</td>\n",
       "      <td>0</td>\n",
       "      <td>0</td>\n",
       "      <td>0</td>\n",
       "      <td>0</td>\n",
       "      <td>37</td>\n",
       "    </tr>\n",
       "    <tr>\n",
       "      <th>...</th>\n",
       "      <td>...</td>\n",
       "      <td>...</td>\n",
       "      <td>...</td>\n",
       "      <td>...</td>\n",
       "      <td>...</td>\n",
       "      <td>...</td>\n",
       "      <td>...</td>\n",
       "      <td>...</td>\n",
       "      <td>...</td>\n",
       "      <td>...</td>\n",
       "      <td>...</td>\n",
       "      <td>...</td>\n",
       "      <td>...</td>\n",
       "      <td>...</td>\n",
       "      <td>...</td>\n",
       "      <td>...</td>\n",
       "      <td>...</td>\n",
       "      <td>...</td>\n",
       "      <td>...</td>\n",
       "      <td>...</td>\n",
       "      <td>...</td>\n",
       "    </tr>\n",
       "    <tr>\n",
       "      <th>1114</th>\n",
       "      <td>07-Jul-21</td>\n",
       "      <td>2021-07-07</td>\n",
       "      <td>Recovered</td>\n",
       "      <td>15</td>\n",
       "      <td>32</td>\n",
       "      <td>63</td>\n",
       "      <td>86</td>\n",
       "      <td>693</td>\n",
       "      <td>6</td>\n",
       "      <td>55</td>\n",
       "      <td>...</td>\n",
       "      <td>0</td>\n",
       "      <td>6</td>\n",
       "      <td>16</td>\n",
       "      <td>140</td>\n",
       "      <td>106</td>\n",
       "      <td>74</td>\n",
       "      <td>39</td>\n",
       "      <td>15</td>\n",
       "      <td>6</td>\n",
       "      <td>3081</td>\n",
       "    </tr>\n",
       "    <tr>\n",
       "      <th>1115</th>\n",
       "      <td>07-Jul-21</td>\n",
       "      <td>2021-07-07</td>\n",
       "      <td>Deceased</td>\n",
       "      <td>0</td>\n",
       "      <td>7</td>\n",
       "      <td>5</td>\n",
       "      <td>2</td>\n",
       "      <td>12</td>\n",
       "      <td>0</td>\n",
       "      <td>1</td>\n",
       "      <td>...</td>\n",
       "      <td>0</td>\n",
       "      <td>1</td>\n",
       "      <td>1</td>\n",
       "      <td>3</td>\n",
       "      <td>2</td>\n",
       "      <td>0</td>\n",
       "      <td>0</td>\n",
       "      <td>0</td>\n",
       "      <td>0</td>\n",
       "      <td>75</td>\n",
       "    </tr>\n",
       "    <tr>\n",
       "      <th>1116</th>\n",
       "      <td>08-Jul-21</td>\n",
       "      <td>2021-07-08</td>\n",
       "      <td>Confirmed</td>\n",
       "      <td>3</td>\n",
       "      <td>18</td>\n",
       "      <td>176</td>\n",
       "      <td>59</td>\n",
       "      <td>514</td>\n",
       "      <td>3</td>\n",
       "      <td>47</td>\n",
       "      <td>...</td>\n",
       "      <td>0</td>\n",
       "      <td>2</td>\n",
       "      <td>15</td>\n",
       "      <td>167</td>\n",
       "      <td>136</td>\n",
       "      <td>148</td>\n",
       "      <td>49</td>\n",
       "      <td>4</td>\n",
       "      <td>5</td>\n",
       "      <td>2530</td>\n",
       "    </tr>\n",
       "    <tr>\n",
       "      <th>1117</th>\n",
       "      <td>08-Jul-21</td>\n",
       "      <td>2021-07-08</td>\n",
       "      <td>Recovered</td>\n",
       "      <td>37</td>\n",
       "      <td>27</td>\n",
       "      <td>121</td>\n",
       "      <td>61</td>\n",
       "      <td>753</td>\n",
       "      <td>1</td>\n",
       "      <td>50</td>\n",
       "      <td>...</td>\n",
       "      <td>0</td>\n",
       "      <td>10</td>\n",
       "      <td>12</td>\n",
       "      <td>100</td>\n",
       "      <td>95</td>\n",
       "      <td>158</td>\n",
       "      <td>90</td>\n",
       "      <td>9</td>\n",
       "      <td>5</td>\n",
       "      <td>3342</td>\n",
       "    </tr>\n",
       "    <tr>\n",
       "      <th>1118</th>\n",
       "      <td>08-Jul-21</td>\n",
       "      <td>2021-07-08</td>\n",
       "      <td>Deceased</td>\n",
       "      <td>0</td>\n",
       "      <td>11</td>\n",
       "      <td>2</td>\n",
       "      <td>0</td>\n",
       "      <td>9</td>\n",
       "      <td>0</td>\n",
       "      <td>0</td>\n",
       "      <td>...</td>\n",
       "      <td>0</td>\n",
       "      <td>0</td>\n",
       "      <td>1</td>\n",
       "      <td>5</td>\n",
       "      <td>3</td>\n",
       "      <td>1</td>\n",
       "      <td>0</td>\n",
       "      <td>0</td>\n",
       "      <td>0</td>\n",
       "      <td>62</td>\n",
       "    </tr>\n",
       "  </tbody>\n",
       "</table>\n",
       "<p>1109 rows × 35 columns</p>\n",
       "</div>"
      ],
      "text/plain": [
       "           Date    Date_YMD     Status  Bagalkote  Ballari  Belagavi  \\\n",
       "10    04-Jul-20  2020-07-04  Recovered          0       20        10   \n",
       "11    04-Jul-20  2020-07-04   Deceased          0        0         0   \n",
       "12    05-Jul-20  2020-07-05  Confirmed          4       90        11   \n",
       "13    05-Jul-20  2020-07-05  Recovered         14       37         0   \n",
       "14    05-Jul-20  2020-07-05   Deceased          0        1         2   \n",
       "...         ...         ...        ...        ...      ...       ...   \n",
       "1114  07-Jul-21  2021-07-07  Recovered         15       32        63   \n",
       "1115  07-Jul-21  2021-07-07   Deceased          0        7         5   \n",
       "1116  08-Jul-21  2021-07-08  Confirmed          3       18       176   \n",
       "1117  08-Jul-21  2021-07-08  Recovered         37       27       121   \n",
       "1118  08-Jul-21  2021-07-08   Deceased          0       11         2   \n",
       "\n",
       "      BengaluruRural  BengaluruUrban  Bidar  Chamarajanagara  ...  OtherState  \\\n",
       "10                 0             195     12                0  ...           0   \n",
       "11                 1              24      6                0  ...           0   \n",
       "12                 0            1235     29               19  ...           0   \n",
       "13                 0             302     20                0  ...           0   \n",
       "14                 0              16      9                0  ...           0   \n",
       "...              ...             ...    ...              ...  ...         ...   \n",
       "1114              86             693      6               55  ...           0   \n",
       "1115               2              12      0                1  ...           0   \n",
       "1116              59             514      3               47  ...           0   \n",
       "1117              61             753      1               50  ...           0   \n",
       "1118               0               9      0                0  ...           0   \n",
       "\n",
       "      Raichur  Ramanagara  Shivamogga  Tumakuru  Udupi  UttaraKannada  \\\n",
       "10         18           0           0        11     10              8   \n",
       "11          0           0           0         0      0              0   \n",
       "12         10           6           8        13     45             21   \n",
       "13          0           0           0         1     22              0   \n",
       "14          0           0           0         1      0              0   \n",
       "...       ...         ...         ...       ...    ...            ...   \n",
       "1114        6          16         140       106     74             39   \n",
       "1115        1           1           3         2      0              0   \n",
       "1116        2          15         167       136    148             49   \n",
       "1117       10          12         100        95    158             90   \n",
       "1118        0           1           5         3      1              0   \n",
       "\n",
       "      Vijayapura  Yadgir  Total  \n",
       "10            24       0    439  \n",
       "11             0       0     42  \n",
       "12            51       0   1925  \n",
       "13            30      12    603  \n",
       "14             0       0     37  \n",
       "...          ...     ...    ...  \n",
       "1114          15       6   3081  \n",
       "1115           0       0     75  \n",
       "1116           4       5   2530  \n",
       "1117           9       5   3342  \n",
       "1118           0       0     62  \n",
       "\n",
       "[1109 rows x 35 columns]"
      ]
     },
     "execution_count": 42,
     "metadata": {},
     "output_type": "execute_result"
    }
   ],
   "source": [
    "df_reduced =  pd.read_csv(\"https://docs.google.com/spreadsheets/d/e/2PACX-1vTf6C8F8KN6eIAe8XdepdHpQZwL8n9ZEgnTFjNRqREw46okY7Yommsq18u70uyw7IMmDtIdZHyTe0Oe/pub?output=csv\",header=0)\n",
    "#Column Slicing \n",
    "df_reduced[\"Status\"]\n",
    "\n",
    "# Row Slicing\n",
    "df_reduced.loc[2]\n",
    "\n",
    "#Row Slicing - Array like\n",
    "df_reduced.iloc[10:]\n"
   ]
  },
  {
   "cell_type": "markdown",
   "metadata": {
    "id": "NZl_ce5_u2WR"
   },
   "source": [
    "#### Selecting Multiple Columns\n",
    "---\n",
    "\n",
    "Send in a list to pandas dataframe to filter out necessary columns\n",
    "\n"
   ]
  },
  {
   "cell_type": "code",
   "execution_count": 43,
   "metadata": {
    "colab": {
     "base_uri": "https://localhost:8080/",
     "height": 423
    },
    "id": "JuBgd5NsvMNs",
    "outputId": "170b87c5-0b35-476d-8ba7-addb185ad35c"
   },
   "outputs": [
    {
     "data": {
      "text/html": [
       "<div>\n",
       "<style scoped>\n",
       "    .dataframe tbody tr th:only-of-type {\n",
       "        vertical-align: middle;\n",
       "    }\n",
       "\n",
       "    .dataframe tbody tr th {\n",
       "        vertical-align: top;\n",
       "    }\n",
       "\n",
       "    .dataframe thead th {\n",
       "        text-align: right;\n",
       "    }\n",
       "</style>\n",
       "<table border=\"1\" class=\"dataframe\">\n",
       "  <thead>\n",
       "    <tr style=\"text-align: right;\">\n",
       "      <th></th>\n",
       "      <th>Status</th>\n",
       "      <th>Date</th>\n",
       "    </tr>\n",
       "  </thead>\n",
       "  <tbody>\n",
       "    <tr>\n",
       "      <th>0</th>\n",
       "      <td>Confirmed</td>\n",
       "      <td>01-Jul-20</td>\n",
       "    </tr>\n",
       "    <tr>\n",
       "      <th>1</th>\n",
       "      <td>Recovered</td>\n",
       "      <td>01-Jul-20</td>\n",
       "    </tr>\n",
       "    <tr>\n",
       "      <th>2</th>\n",
       "      <td>Deceased</td>\n",
       "      <td>01-Jul-20</td>\n",
       "    </tr>\n",
       "    <tr>\n",
       "      <th>3</th>\n",
       "      <td>Confirmed</td>\n",
       "      <td>02-Jul-20</td>\n",
       "    </tr>\n",
       "    <tr>\n",
       "      <th>4</th>\n",
       "      <td>Recovered</td>\n",
       "      <td>02-Jul-20</td>\n",
       "    </tr>\n",
       "    <tr>\n",
       "      <th>...</th>\n",
       "      <td>...</td>\n",
       "      <td>...</td>\n",
       "    </tr>\n",
       "    <tr>\n",
       "      <th>1114</th>\n",
       "      <td>Recovered</td>\n",
       "      <td>07-Jul-21</td>\n",
       "    </tr>\n",
       "    <tr>\n",
       "      <th>1115</th>\n",
       "      <td>Deceased</td>\n",
       "      <td>07-Jul-21</td>\n",
       "    </tr>\n",
       "    <tr>\n",
       "      <th>1116</th>\n",
       "      <td>Confirmed</td>\n",
       "      <td>08-Jul-21</td>\n",
       "    </tr>\n",
       "    <tr>\n",
       "      <th>1117</th>\n",
       "      <td>Recovered</td>\n",
       "      <td>08-Jul-21</td>\n",
       "    </tr>\n",
       "    <tr>\n",
       "      <th>1118</th>\n",
       "      <td>Deceased</td>\n",
       "      <td>08-Jul-21</td>\n",
       "    </tr>\n",
       "  </tbody>\n",
       "</table>\n",
       "<p>1119 rows × 2 columns</p>\n",
       "</div>"
      ],
      "text/plain": [
       "         Status       Date\n",
       "0     Confirmed  01-Jul-20\n",
       "1     Recovered  01-Jul-20\n",
       "2      Deceased  01-Jul-20\n",
       "3     Confirmed  02-Jul-20\n",
       "4     Recovered  02-Jul-20\n",
       "...         ...        ...\n",
       "1114  Recovered  07-Jul-21\n",
       "1115   Deceased  07-Jul-21\n",
       "1116  Confirmed  08-Jul-21\n",
       "1117  Recovered  08-Jul-21\n",
       "1118   Deceased  08-Jul-21\n",
       "\n",
       "[1119 rows x 2 columns]"
      ]
     },
     "execution_count": 43,
     "metadata": {},
     "output_type": "execute_result"
    }
   ],
   "source": [
    "df_reduced[[\"Status\",\"Date\"]]"
   ]
  },
  {
   "cell_type": "markdown",
   "metadata": {
    "id": "8EJzA4Y9r6Wy"
   },
   "source": [
    "### Conditional Operators \n",
    "\n",
    "- Can filter based on any column or row values\n",
    "- Can filter any column based on other column values"
   ]
  },
  {
   "cell_type": "code",
   "execution_count": 44,
   "metadata": {
    "colab": {
     "base_uri": "https://localhost:8080/",
     "height": 473
    },
    "id": "DuY8AudGc7vJ",
    "outputId": "94cb3d8b-2ea7-454d-c3bc-91eb52e671dc"
   },
   "outputs": [
    {
     "data": {
      "text/html": [
       "<div>\n",
       "<style scoped>\n",
       "    .dataframe tbody tr th:only-of-type {\n",
       "        vertical-align: middle;\n",
       "    }\n",
       "\n",
       "    .dataframe tbody tr th {\n",
       "        vertical-align: top;\n",
       "    }\n",
       "\n",
       "    .dataframe thead th {\n",
       "        text-align: right;\n",
       "    }\n",
       "</style>\n",
       "<table border=\"1\" class=\"dataframe\">\n",
       "  <thead>\n",
       "    <tr style=\"text-align: right;\">\n",
       "      <th></th>\n",
       "      <th>Date</th>\n",
       "      <th>Date_YMD</th>\n",
       "      <th>Status</th>\n",
       "      <th>Bagalkote</th>\n",
       "      <th>Ballari</th>\n",
       "      <th>Belagavi</th>\n",
       "      <th>BengaluruRural</th>\n",
       "      <th>BengaluruUrban</th>\n",
       "      <th>Bidar</th>\n",
       "      <th>Chamarajanagara</th>\n",
       "      <th>...</th>\n",
       "      <th>OtherState</th>\n",
       "      <th>Raichur</th>\n",
       "      <th>Ramanagara</th>\n",
       "      <th>Shivamogga</th>\n",
       "      <th>Tumakuru</th>\n",
       "      <th>Udupi</th>\n",
       "      <th>UttaraKannada</th>\n",
       "      <th>Vijayapura</th>\n",
       "      <th>Yadgir</th>\n",
       "      <th>Total</th>\n",
       "    </tr>\n",
       "  </thead>\n",
       "  <tbody>\n",
       "    <tr>\n",
       "      <th>0</th>\n",
       "      <td>01-Jul-20</td>\n",
       "      <td>2020-07-01</td>\n",
       "      <td>Confirmed</td>\n",
       "      <td>208</td>\n",
       "      <td>919</td>\n",
       "      <td>336</td>\n",
       "      <td>158</td>\n",
       "      <td>5290</td>\n",
       "      <td>615</td>\n",
       "      <td>54</td>\n",
       "      <td>...</td>\n",
       "      <td>36</td>\n",
       "      <td>500</td>\n",
       "      <td>176</td>\n",
       "      <td>176</td>\n",
       "      <td>113</td>\n",
       "      <td>1228</td>\n",
       "      <td>276</td>\n",
       "      <td>427</td>\n",
       "      <td>949</td>\n",
       "      <td>16514</td>\n",
       "    </tr>\n",
       "    <tr>\n",
       "      <th>1</th>\n",
       "      <td>01-Jul-20</td>\n",
       "      <td>2020-07-01</td>\n",
       "      <td>Recovered</td>\n",
       "      <td>123</td>\n",
       "      <td>405</td>\n",
       "      <td>303</td>\n",
       "      <td>14</td>\n",
       "      <td>544</td>\n",
       "      <td>500</td>\n",
       "      <td>1</td>\n",
       "      <td>...</td>\n",
       "      <td>32</td>\n",
       "      <td>403</td>\n",
       "      <td>76</td>\n",
       "      <td>109</td>\n",
       "      <td>49</td>\n",
       "      <td>1058</td>\n",
       "      <td>143</td>\n",
       "      <td>308</td>\n",
       "      <td>838</td>\n",
       "      <td>8065</td>\n",
       "    </tr>\n",
       "    <tr>\n",
       "      <th>2</th>\n",
       "      <td>01-Jul-20</td>\n",
       "      <td>2020-07-01</td>\n",
       "      <td>Deceased</td>\n",
       "      <td>5</td>\n",
       "      <td>29</td>\n",
       "      <td>3</td>\n",
       "      <td>4</td>\n",
       "      <td>97</td>\n",
       "      <td>21</td>\n",
       "      <td>0</td>\n",
       "      <td>...</td>\n",
       "      <td>3</td>\n",
       "      <td>2</td>\n",
       "      <td>5</td>\n",
       "      <td>2</td>\n",
       "      <td>5</td>\n",
       "      <td>2</td>\n",
       "      <td>0</td>\n",
       "      <td>9</td>\n",
       "      <td>1</td>\n",
       "      <td>253</td>\n",
       "    </tr>\n",
       "    <tr>\n",
       "      <th>3</th>\n",
       "      <td>02-Jul-20</td>\n",
       "      <td>2020-07-02</td>\n",
       "      <td>Confirmed</td>\n",
       "      <td>10</td>\n",
       "      <td>65</td>\n",
       "      <td>7</td>\n",
       "      <td>5</td>\n",
       "      <td>889</td>\n",
       "      <td>32</td>\n",
       "      <td>0</td>\n",
       "      <td>...</td>\n",
       "      <td>0</td>\n",
       "      <td>11</td>\n",
       "      <td>39</td>\n",
       "      <td>23</td>\n",
       "      <td>26</td>\n",
       "      <td>14</td>\n",
       "      <td>17</td>\n",
       "      <td>39</td>\n",
       "      <td>7</td>\n",
       "      <td>1502</td>\n",
       "    </tr>\n",
       "    <tr>\n",
       "      <th>4</th>\n",
       "      <td>02-Jul-20</td>\n",
       "      <td>2020-07-02</td>\n",
       "      <td>Recovered</td>\n",
       "      <td>0</td>\n",
       "      <td>62</td>\n",
       "      <td>0</td>\n",
       "      <td>32</td>\n",
       "      <td>30</td>\n",
       "      <td>0</td>\n",
       "      <td>0</td>\n",
       "      <td>...</td>\n",
       "      <td>0</td>\n",
       "      <td>1</td>\n",
       "      <td>0</td>\n",
       "      <td>8</td>\n",
       "      <td>0</td>\n",
       "      <td>21</td>\n",
       "      <td>0</td>\n",
       "      <td>14</td>\n",
       "      <td>0</td>\n",
       "      <td>271</td>\n",
       "    </tr>\n",
       "  </tbody>\n",
       "</table>\n",
       "<p>5 rows × 35 columns</p>\n",
       "</div>"
      ],
      "text/plain": [
       "        Date    Date_YMD     Status  Bagalkote  Ballari  Belagavi  \\\n",
       "0  01-Jul-20  2020-07-01  Confirmed        208      919       336   \n",
       "1  01-Jul-20  2020-07-01  Recovered        123      405       303   \n",
       "2  01-Jul-20  2020-07-01   Deceased          5       29         3   \n",
       "3  02-Jul-20  2020-07-02  Confirmed         10       65         7   \n",
       "4  02-Jul-20  2020-07-02  Recovered          0       62         0   \n",
       "\n",
       "   BengaluruRural  BengaluruUrban  Bidar  Chamarajanagara  ...  OtherState  \\\n",
       "0             158            5290    615               54  ...          36   \n",
       "1              14             544    500                1  ...          32   \n",
       "2               4              97     21                0  ...           3   \n",
       "3               5             889     32                0  ...           0   \n",
       "4              32              30      0                0  ...           0   \n",
       "\n",
       "   Raichur  Ramanagara  Shivamogga  Tumakuru  Udupi  UttaraKannada  \\\n",
       "0      500         176         176       113   1228            276   \n",
       "1      403          76         109        49   1058            143   \n",
       "2        2           5           2         5      2              0   \n",
       "3       11          39          23        26     14             17   \n",
       "4        1           0           8         0     21              0   \n",
       "\n",
       "   Vijayapura  Yadgir  Total  \n",
       "0         427     949  16514  \n",
       "1         308     838   8065  \n",
       "2           9       1    253  \n",
       "3          39       7   1502  \n",
       "4          14       0    271  \n",
       "\n",
       "[5 rows x 35 columns]"
      ]
     },
     "execution_count": 44,
     "metadata": {},
     "output_type": "execute_result"
    }
   ],
   "source": [
    "df_reduced.head()"
   ]
  },
  {
   "cell_type": "code",
   "execution_count": 45,
   "metadata": {
    "colab": {
     "base_uri": "https://localhost:8080/",
     "height": 834
    },
    "id": "6UkbXXe7rlqR",
    "outputId": "bad836cf-d3ef-4f81-c34c-4b514570dae6"
   },
   "outputs": [
    {
     "data": {
      "text/html": [
       "<div>\n",
       "<style scoped>\n",
       "    .dataframe tbody tr th:only-of-type {\n",
       "        vertical-align: middle;\n",
       "    }\n",
       "\n",
       "    .dataframe tbody tr th {\n",
       "        vertical-align: top;\n",
       "    }\n",
       "\n",
       "    .dataframe thead th {\n",
       "        text-align: right;\n",
       "    }\n",
       "</style>\n",
       "<table border=\"1\" class=\"dataframe\">\n",
       "  <thead>\n",
       "    <tr style=\"text-align: right;\">\n",
       "      <th></th>\n",
       "      <th>Date</th>\n",
       "      <th>Date_YMD</th>\n",
       "      <th>Status</th>\n",
       "      <th>Bagalkote</th>\n",
       "      <th>Ballari</th>\n",
       "      <th>Belagavi</th>\n",
       "      <th>BengaluruRural</th>\n",
       "      <th>BengaluruUrban</th>\n",
       "      <th>Bidar</th>\n",
       "      <th>Chamarajanagara</th>\n",
       "      <th>...</th>\n",
       "      <th>OtherState</th>\n",
       "      <th>Raichur</th>\n",
       "      <th>Ramanagara</th>\n",
       "      <th>Shivamogga</th>\n",
       "      <th>Tumakuru</th>\n",
       "      <th>Udupi</th>\n",
       "      <th>UttaraKannada</th>\n",
       "      <th>Vijayapura</th>\n",
       "      <th>Yadgir</th>\n",
       "      <th>Total</th>\n",
       "    </tr>\n",
       "  </thead>\n",
       "  <tbody>\n",
       "    <tr>\n",
       "      <th>0</th>\n",
       "      <td>01-Jul-20</td>\n",
       "      <td>2020-07-01</td>\n",
       "      <td>Confirmed</td>\n",
       "      <td>208</td>\n",
       "      <td>919</td>\n",
       "      <td>336</td>\n",
       "      <td>158</td>\n",
       "      <td>5290</td>\n",
       "      <td>615</td>\n",
       "      <td>54</td>\n",
       "      <td>...</td>\n",
       "      <td>36</td>\n",
       "      <td>500</td>\n",
       "      <td>176</td>\n",
       "      <td>176</td>\n",
       "      <td>113</td>\n",
       "      <td>1228</td>\n",
       "      <td>276</td>\n",
       "      <td>427</td>\n",
       "      <td>949</td>\n",
       "      <td>16514</td>\n",
       "    </tr>\n",
       "    <tr>\n",
       "      <th>3</th>\n",
       "      <td>02-Jul-20</td>\n",
       "      <td>2020-07-02</td>\n",
       "      <td>Confirmed</td>\n",
       "      <td>10</td>\n",
       "      <td>65</td>\n",
       "      <td>7</td>\n",
       "      <td>5</td>\n",
       "      <td>889</td>\n",
       "      <td>32</td>\n",
       "      <td>0</td>\n",
       "      <td>...</td>\n",
       "      <td>0</td>\n",
       "      <td>11</td>\n",
       "      <td>39</td>\n",
       "      <td>23</td>\n",
       "      <td>26</td>\n",
       "      <td>14</td>\n",
       "      <td>17</td>\n",
       "      <td>39</td>\n",
       "      <td>7</td>\n",
       "      <td>1502</td>\n",
       "    </tr>\n",
       "    <tr>\n",
       "      <th>6</th>\n",
       "      <td>03-Jul-20</td>\n",
       "      <td>2020-07-03</td>\n",
       "      <td>Confirmed</td>\n",
       "      <td>8</td>\n",
       "      <td>97</td>\n",
       "      <td>13</td>\n",
       "      <td>44</td>\n",
       "      <td>994</td>\n",
       "      <td>28</td>\n",
       "      <td>24</td>\n",
       "      <td>...</td>\n",
       "      <td>0</td>\n",
       "      <td>7</td>\n",
       "      <td>10</td>\n",
       "      <td>23</td>\n",
       "      <td>57</td>\n",
       "      <td>16</td>\n",
       "      <td>5</td>\n",
       "      <td>4</td>\n",
       "      <td>14</td>\n",
       "      <td>1694</td>\n",
       "    </tr>\n",
       "    <tr>\n",
       "      <th>9</th>\n",
       "      <td>04-Jul-20</td>\n",
       "      <td>2020-07-04</td>\n",
       "      <td>Confirmed</td>\n",
       "      <td>0</td>\n",
       "      <td>73</td>\n",
       "      <td>27</td>\n",
       "      <td>11</td>\n",
       "      <td>1172</td>\n",
       "      <td>51</td>\n",
       "      <td>5</td>\n",
       "      <td>...</td>\n",
       "      <td>0</td>\n",
       "      <td>41</td>\n",
       "      <td>2</td>\n",
       "      <td>31</td>\n",
       "      <td>12</td>\n",
       "      <td>18</td>\n",
       "      <td>35</td>\n",
       "      <td>37</td>\n",
       "      <td>1</td>\n",
       "      <td>1839</td>\n",
       "    </tr>\n",
       "    <tr>\n",
       "      <th>12</th>\n",
       "      <td>05-Jul-20</td>\n",
       "      <td>2020-07-05</td>\n",
       "      <td>Confirmed</td>\n",
       "      <td>4</td>\n",
       "      <td>90</td>\n",
       "      <td>11</td>\n",
       "      <td>0</td>\n",
       "      <td>1235</td>\n",
       "      <td>29</td>\n",
       "      <td>19</td>\n",
       "      <td>...</td>\n",
       "      <td>0</td>\n",
       "      <td>10</td>\n",
       "      <td>6</td>\n",
       "      <td>8</td>\n",
       "      <td>13</td>\n",
       "      <td>45</td>\n",
       "      <td>21</td>\n",
       "      <td>51</td>\n",
       "      <td>0</td>\n",
       "      <td>1925</td>\n",
       "    </tr>\n",
       "    <tr>\n",
       "      <th>...</th>\n",
       "      <td>...</td>\n",
       "      <td>...</td>\n",
       "      <td>...</td>\n",
       "      <td>...</td>\n",
       "      <td>...</td>\n",
       "      <td>...</td>\n",
       "      <td>...</td>\n",
       "      <td>...</td>\n",
       "      <td>...</td>\n",
       "      <td>...</td>\n",
       "      <td>...</td>\n",
       "      <td>...</td>\n",
       "      <td>...</td>\n",
       "      <td>...</td>\n",
       "      <td>...</td>\n",
       "      <td>...</td>\n",
       "      <td>...</td>\n",
       "      <td>...</td>\n",
       "      <td>...</td>\n",
       "      <td>...</td>\n",
       "      <td>...</td>\n",
       "    </tr>\n",
       "    <tr>\n",
       "      <th>1104</th>\n",
       "      <td>04-Jul-21</td>\n",
       "      <td>2021-07-04</td>\n",
       "      <td>Confirmed</td>\n",
       "      <td>0</td>\n",
       "      <td>17</td>\n",
       "      <td>28</td>\n",
       "      <td>42</td>\n",
       "      <td>352</td>\n",
       "      <td>3</td>\n",
       "      <td>48</td>\n",
       "      <td>...</td>\n",
       "      <td>0</td>\n",
       "      <td>4</td>\n",
       "      <td>14</td>\n",
       "      <td>77</td>\n",
       "      <td>116</td>\n",
       "      <td>28</td>\n",
       "      <td>24</td>\n",
       "      <td>3</td>\n",
       "      <td>0</td>\n",
       "      <td>1564</td>\n",
       "    </tr>\n",
       "    <tr>\n",
       "      <th>1107</th>\n",
       "      <td>05-Jul-21</td>\n",
       "      <td>2021-07-05</td>\n",
       "      <td>Confirmed</td>\n",
       "      <td>2</td>\n",
       "      <td>15</td>\n",
       "      <td>95</td>\n",
       "      <td>57</td>\n",
       "      <td>520</td>\n",
       "      <td>6</td>\n",
       "      <td>49</td>\n",
       "      <td>...</td>\n",
       "      <td>0</td>\n",
       "      <td>9</td>\n",
       "      <td>10</td>\n",
       "      <td>140</td>\n",
       "      <td>126</td>\n",
       "      <td>108</td>\n",
       "      <td>56</td>\n",
       "      <td>7</td>\n",
       "      <td>2</td>\n",
       "      <td>2848</td>\n",
       "    </tr>\n",
       "    <tr>\n",
       "      <th>1110</th>\n",
       "      <td>06-Jul-21</td>\n",
       "      <td>2021-07-06</td>\n",
       "      <td>Confirmed</td>\n",
       "      <td>5</td>\n",
       "      <td>24</td>\n",
       "      <td>157</td>\n",
       "      <td>67</td>\n",
       "      <td>715</td>\n",
       "      <td>6</td>\n",
       "      <td>68</td>\n",
       "      <td>...</td>\n",
       "      <td>0</td>\n",
       "      <td>4</td>\n",
       "      <td>32</td>\n",
       "      <td>119</td>\n",
       "      <td>138</td>\n",
       "      <td>114</td>\n",
       "      <td>72</td>\n",
       "      <td>2</td>\n",
       "      <td>3</td>\n",
       "      <td>3104</td>\n",
       "    </tr>\n",
       "    <tr>\n",
       "      <th>1113</th>\n",
       "      <td>07-Jul-21</td>\n",
       "      <td>2021-07-07</td>\n",
       "      <td>Confirmed</td>\n",
       "      <td>2</td>\n",
       "      <td>22</td>\n",
       "      <td>120</td>\n",
       "      <td>70</td>\n",
       "      <td>611</td>\n",
       "      <td>6</td>\n",
       "      <td>47</td>\n",
       "      <td>...</td>\n",
       "      <td>0</td>\n",
       "      <td>7</td>\n",
       "      <td>34</td>\n",
       "      <td>149</td>\n",
       "      <td>112</td>\n",
       "      <td>101</td>\n",
       "      <td>40</td>\n",
       "      <td>3</td>\n",
       "      <td>7</td>\n",
       "      <td>2743</td>\n",
       "    </tr>\n",
       "    <tr>\n",
       "      <th>1116</th>\n",
       "      <td>08-Jul-21</td>\n",
       "      <td>2021-07-08</td>\n",
       "      <td>Confirmed</td>\n",
       "      <td>3</td>\n",
       "      <td>18</td>\n",
       "      <td>176</td>\n",
       "      <td>59</td>\n",
       "      <td>514</td>\n",
       "      <td>3</td>\n",
       "      <td>47</td>\n",
       "      <td>...</td>\n",
       "      <td>0</td>\n",
       "      <td>2</td>\n",
       "      <td>15</td>\n",
       "      <td>167</td>\n",
       "      <td>136</td>\n",
       "      <td>148</td>\n",
       "      <td>49</td>\n",
       "      <td>4</td>\n",
       "      <td>5</td>\n",
       "      <td>2530</td>\n",
       "    </tr>\n",
       "  </tbody>\n",
       "</table>\n",
       "<p>373 rows × 35 columns</p>\n",
       "</div>"
      ],
      "text/plain": [
       "           Date    Date_YMD     Status  Bagalkote  Ballari  Belagavi  \\\n",
       "0     01-Jul-20  2020-07-01  Confirmed        208      919       336   \n",
       "3     02-Jul-20  2020-07-02  Confirmed         10       65         7   \n",
       "6     03-Jul-20  2020-07-03  Confirmed          8       97        13   \n",
       "9     04-Jul-20  2020-07-04  Confirmed          0       73        27   \n",
       "12    05-Jul-20  2020-07-05  Confirmed          4       90        11   \n",
       "...         ...         ...        ...        ...      ...       ...   \n",
       "1104  04-Jul-21  2021-07-04  Confirmed          0       17        28   \n",
       "1107  05-Jul-21  2021-07-05  Confirmed          2       15        95   \n",
       "1110  06-Jul-21  2021-07-06  Confirmed          5       24       157   \n",
       "1113  07-Jul-21  2021-07-07  Confirmed          2       22       120   \n",
       "1116  08-Jul-21  2021-07-08  Confirmed          3       18       176   \n",
       "\n",
       "      BengaluruRural  BengaluruUrban  Bidar  Chamarajanagara  ...  OtherState  \\\n",
       "0                158            5290    615               54  ...          36   \n",
       "3                  5             889     32                0  ...           0   \n",
       "6                 44             994     28               24  ...           0   \n",
       "9                 11            1172     51                5  ...           0   \n",
       "12                 0            1235     29               19  ...           0   \n",
       "...              ...             ...    ...              ...  ...         ...   \n",
       "1104              42             352      3               48  ...           0   \n",
       "1107              57             520      6               49  ...           0   \n",
       "1110              67             715      6               68  ...           0   \n",
       "1113              70             611      6               47  ...           0   \n",
       "1116              59             514      3               47  ...           0   \n",
       "\n",
       "      Raichur  Ramanagara  Shivamogga  Tumakuru  Udupi  UttaraKannada  \\\n",
       "0         500         176         176       113   1228            276   \n",
       "3          11          39          23        26     14             17   \n",
       "6           7          10          23        57     16              5   \n",
       "9          41           2          31        12     18             35   \n",
       "12         10           6           8        13     45             21   \n",
       "...       ...         ...         ...       ...    ...            ...   \n",
       "1104        4          14          77       116     28             24   \n",
       "1107        9          10         140       126    108             56   \n",
       "1110        4          32         119       138    114             72   \n",
       "1113        7          34         149       112    101             40   \n",
       "1116        2          15         167       136    148             49   \n",
       "\n",
       "      Vijayapura  Yadgir  Total  \n",
       "0            427     949  16514  \n",
       "3             39       7   1502  \n",
       "6              4      14   1694  \n",
       "9             37       1   1839  \n",
       "12            51       0   1925  \n",
       "...          ...     ...    ...  \n",
       "1104           3       0   1564  \n",
       "1107           7       2   2848  \n",
       "1110           2       3   3104  \n",
       "1113           3       7   2743  \n",
       "1116           4       5   2530  \n",
       "\n",
       "[373 rows x 35 columns]"
      ]
     },
     "execution_count": 45,
     "metadata": {},
     "output_type": "execute_result"
    }
   ],
   "source": [
    "df1 = df_reduced[(df_reduced[\"Status\"] == \"Confirmed\") ]\n",
    "df1"
   ]
  },
  {
   "cell_type": "markdown",
   "metadata": {
    "id": "V0134RQvuslO"
   },
   "source": [
    "Filter based on Multiple Conditions\n"
   ]
  },
  {
   "cell_type": "code",
   "execution_count": 46,
   "metadata": {
    "colab": {
     "base_uri": "https://localhost:8080/"
    },
    "id": "hXv0O7wlr9YL",
    "outputId": "ad13815c-5e2d-49fa-8e24-c790ed3832b0"
   },
   "outputs": [
    {
     "data": {
      "text/plain": [
       "array([[  208,   919,   336, ...,   427,   949, 16514],\n",
       "       [  128,   313,   128, ...,   138,   117, 10453],\n",
       "       [  336,   486,   115, ...,   257,   159, 10070],\n",
       "       ...,\n",
       "       [  112,   267,   355, ...,   137,    37, 11958],\n",
       "       [   96,   211,   341, ...,   158,    31, 10959],\n",
       "       [   72,   293,   439, ...,   174,    15, 11042]])"
      ]
     },
     "execution_count": 46,
     "metadata": {},
     "output_type": "execute_result"
    }
   ],
   "source": [
    "df1 = df_reduced[(df_reduced[\"Status\"] == \"Confirmed\") & (df_reduced[\"Total\"] > 10000)]\n",
    "k = df1.iloc[:,3:].to_numpy()\n",
    "k"
   ]
  },
  {
   "cell_type": "markdown",
   "metadata": {
    "id": "uQEwEasOgQrX"
   },
   "source": [
    "## 5. Missing Data in Pandas\n",
    "---\n",
    "\n",
    "Missing data in pandas is generally represented by `np.nan`\n"
   ]
  },
  {
   "cell_type": "code",
   "execution_count": 47,
   "metadata": {
    "id": "DTzofpbRgng-"
   },
   "outputs": [
    {
     "data": {
      "text/html": [
       "<div>\n",
       "<style scoped>\n",
       "    .dataframe tbody tr th:only-of-type {\n",
       "        vertical-align: middle;\n",
       "    }\n",
       "\n",
       "    .dataframe tbody tr th {\n",
       "        vertical-align: top;\n",
       "    }\n",
       "\n",
       "    .dataframe thead th {\n",
       "        text-align: right;\n",
       "    }\n",
       "</style>\n",
       "<table border=\"1\" class=\"dataframe\">\n",
       "  <thead>\n",
       "    <tr style=\"text-align: right;\">\n",
       "      <th></th>\n",
       "      <th>name</th>\n",
       "      <th>age</th>\n",
       "      <th>city</th>\n",
       "    </tr>\n",
       "  </thead>\n",
       "  <tbody>\n",
       "    <tr>\n",
       "      <th>0</th>\n",
       "      <td>jack</td>\n",
       "      <td>34.0</td>\n",
       "      <td>NaN</td>\n",
       "    </tr>\n",
       "    <tr>\n",
       "      <th>1</th>\n",
       "      <td>Riti</td>\n",
       "      <td>30.0</td>\n",
       "      <td>Delhi</td>\n",
       "    </tr>\n",
       "    <tr>\n",
       "      <th>2</th>\n",
       "      <td>Aadi</td>\n",
       "      <td>NaN</td>\n",
       "      <td>New york</td>\n",
       "    </tr>\n",
       "  </tbody>\n",
       "</table>\n",
       "</div>"
      ],
      "text/plain": [
       "   name   age      city\n",
       "0  jack  34.0       NaN\n",
       "1  Riti  30.0     Delhi\n",
       "2  Aadi   NaN  New york"
      ]
     },
     "execution_count": 47,
     "metadata": {},
     "output_type": "execute_result"
    }
   ],
   "source": [
    "import numpy as np\n",
    "studentData = {\n",
    "    'name' : ['jack', 'Riti', 'Aadi'],\n",
    "    'age' : [34, 30, np.nan],\n",
    "    'city' : [np.nan, 'Delhi', 'New york']\n",
    "}\n",
    "\n",
    "\n",
    "df = pd.DataFrame(studentData)\n",
    "\n",
    "df"
   ]
  },
  {
   "cell_type": "code",
   "execution_count": 48,
   "metadata": {
    "id": "vHXed-2ig4Mb"
   },
   "outputs": [
    {
     "data": {
      "text/html": [
       "<div>\n",
       "<style scoped>\n",
       "    .dataframe tbody tr th:only-of-type {\n",
       "        vertical-align: middle;\n",
       "    }\n",
       "\n",
       "    .dataframe tbody tr th {\n",
       "        vertical-align: top;\n",
       "    }\n",
       "\n",
       "    .dataframe thead th {\n",
       "        text-align: right;\n",
       "    }\n",
       "</style>\n",
       "<table border=\"1\" class=\"dataframe\">\n",
       "  <thead>\n",
       "    <tr style=\"text-align: right;\">\n",
       "      <th></th>\n",
       "      <th>name</th>\n",
       "      <th>age</th>\n",
       "      <th>city</th>\n",
       "    </tr>\n",
       "  </thead>\n",
       "  <tbody>\n",
       "    <tr>\n",
       "      <th>1</th>\n",
       "      <td>Riti</td>\n",
       "      <td>30.0</td>\n",
       "      <td>Delhi</td>\n",
       "    </tr>\n",
       "  </tbody>\n",
       "</table>\n",
       "</div>"
      ],
      "text/plain": [
       "   name   age   city\n",
       "1  Riti  30.0  Delhi"
      ]
     },
     "execution_count": 48,
     "metadata": {},
     "output_type": "execute_result"
    }
   ],
   "source": [
    "### remove all nan\n",
    "df.dropna(how=\"any\")\n",
    "\n",
    "##fill na\n",
    "# df.fillna(2)\n"
   ]
  },
  {
   "cell_type": "markdown",
   "metadata": {
    "id": "EhjUnt0TxwvY"
   },
   "source": [
    "## 6. DataFrame Statistics\n",
    "---\n",
    "\n",
    "These are the common functions that we can use on dataframes to get basic stat information\n",
    "\n",
    "* count\n",
    "* sum \n",
    "* mean\n",
    "* median\n",
    "* value_counts\n",
    "* cumsum"
   ]
  },
  {
   "cell_type": "code",
   "execution_count": 49,
   "metadata": {
    "id": "oHxyjaOVxmVt"
   },
   "outputs": [
    {
     "name": "stdout",
     "output_type": "stream",
     "text": [
      "Bagalkote            324.227273\n",
      "Ballari              862.545455\n",
      "Belagavi             692.500000\n",
      "BengaluruRural       574.424242\n",
      "BengaluruUrban     11249.439394\n",
      "Bidar                202.727273\n",
      "Chamarajanagara      343.136364\n",
      "Chikkaballapura      416.393939\n",
      "Chikkamagaluru       430.196970\n",
      "Chitradurga          294.727273\n",
      "DakshinaKannada      730.348485\n",
      "Davanagere           377.818182\n",
      "Dharwad              537.333333\n",
      "Gadag                219.500000\n",
      "Hassan               997.969697\n",
      "Haveri               157.393939\n",
      "Kalaburagi           556.196970\n",
      "Kodagu               325.909091\n",
      "Kolar                471.287879\n",
      "Koppal               305.363636\n",
      "Mandya               708.666667\n",
      "Mysuru              1518.424242\n",
      "OtherState             0.545455\n",
      "Raichur              388.136364\n",
      "Ramanagara           242.863636\n",
      "Shivamogga           554.984848\n",
      "Tumakuru            1260.681818\n",
      "Udupi                609.151515\n",
      "UttaraKannada        527.454545\n",
      "Vijayapura           311.030303\n",
      "Yadgir               268.439394\n",
      "Total              26459.818182\n",
      "dtype: float64\n"
     ]
    },
    {
     "data": {
      "text/plain": [
       "0       1032.1250\n",
       "270      653.3125\n",
       "276      629.3750\n",
       "285      634.0625\n",
       "294      684.1875\n",
       "          ...    \n",
       "1017     862.5000\n",
       "1020     763.0625\n",
       "1023     747.3750\n",
       "1029     684.9375\n",
       "1032     690.1250\n",
       "Length: 66, dtype: float64"
      ]
     },
     "execution_count": 49,
     "metadata": {},
     "output_type": "execute_result"
    }
   ],
   "source": [
    "df2 = df1.iloc[:,3:]\n",
    "print(df2.mean())\n",
    "\n",
    "## mean on different axis\n",
    "df2.mean(axis=1)\n",
    "\n",
    "# ## Mean for Specific Clumn \n",
    "# df[\"Total\"].mean()"
   ]
  },
  {
   "cell_type": "markdown",
   "metadata": {
    "id": "-FKY_5UnjqrB"
   },
   "source": [
    "#### Value Counts - Histogram\n"
   ]
  },
  {
   "cell_type": "code",
   "execution_count": 50,
   "metadata": {
    "id": "uq_VUfNiyQeM"
   },
   "outputs": [
    {
     "data": {
      "text/plain": [
       "Status\n",
       "Confirmed    373\n",
       "Recovered    373\n",
       "Deceased     373\n",
       "Name: count, dtype: int64"
      ]
     },
     "execution_count": 50,
     "metadata": {},
     "output_type": "execute_result"
    }
   ],
   "source": [
    "## Using Value counts to get histogram\n",
    "df_reduced[\"Status\"].value_counts()\n",
    "\n",
    "\n",
    "# df[\"Total\"].count()"
   ]
  },
  {
   "cell_type": "code",
   "execution_count": 51,
   "metadata": {
    "id": "D-qmJjD1zXtC"
   },
   "outputs": [
    {
     "data": {
      "text/plain": [
       "0         16514\n",
       "270       26967\n",
       "276       37037\n",
       "285       47182\n",
       "294       58129\n",
       "         ...   \n",
       "1017    1700180\n",
       "1020    1712389\n",
       "1023    1724347\n",
       "1029    1735306\n",
       "1032    1746348\n",
       "Name: Total, Length: 66, dtype: int64"
      ]
     },
     "execution_count": 51,
     "metadata": {},
     "output_type": "execute_result"
    }
   ],
   "source": [
    "## Cumuliative Sum\n",
    "df2[\"Total\"].cumsum()"
   ]
  },
  {
   "cell_type": "code",
   "execution_count": 52,
   "metadata": {
    "id": "iQixaKIBz3MB"
   },
   "outputs": [
    {
     "data": {
      "text/plain": [
       "25553.0"
      ]
     },
     "execution_count": 52,
     "metadata": {},
     "output_type": "execute_result"
    }
   ],
   "source": [
    "## Median\n",
    "df2[\"Total\"].median()"
   ]
  },
  {
   "cell_type": "code",
   "execution_count": 53,
   "metadata": {
    "id": "2pjXg0Sc078S"
   },
   "outputs": [
    {
     "data": {
      "text/html": [
       "<div>\n",
       "<style scoped>\n",
       "    .dataframe tbody tr th:only-of-type {\n",
       "        vertical-align: middle;\n",
       "    }\n",
       "\n",
       "    .dataframe tbody tr th {\n",
       "        vertical-align: top;\n",
       "    }\n",
       "\n",
       "    .dataframe thead th {\n",
       "        text-align: right;\n",
       "    }\n",
       "</style>\n",
       "<table border=\"1\" class=\"dataframe\">\n",
       "  <thead>\n",
       "    <tr style=\"text-align: right;\">\n",
       "      <th></th>\n",
       "      <th>Bagalkote</th>\n",
       "      <th>Ballari</th>\n",
       "      <th>Belagavi</th>\n",
       "      <th>BengaluruRural</th>\n",
       "      <th>BengaluruUrban</th>\n",
       "      <th>Bidar</th>\n",
       "      <th>Chamarajanagara</th>\n",
       "      <th>Chikkaballapura</th>\n",
       "      <th>Chikkamagaluru</th>\n",
       "      <th>Chitradurga</th>\n",
       "      <th>...</th>\n",
       "      <th>OtherState</th>\n",
       "      <th>Raichur</th>\n",
       "      <th>Ramanagara</th>\n",
       "      <th>Shivamogga</th>\n",
       "      <th>Tumakuru</th>\n",
       "      <th>Udupi</th>\n",
       "      <th>UttaraKannada</th>\n",
       "      <th>Vijayapura</th>\n",
       "      <th>Yadgir</th>\n",
       "      <th>Total</th>\n",
       "    </tr>\n",
       "  </thead>\n",
       "  <tbody>\n",
       "    <tr>\n",
       "      <th>0</th>\n",
       "      <td>208</td>\n",
       "      <td>919</td>\n",
       "      <td>336</td>\n",
       "      <td>158</td>\n",
       "      <td>5290</td>\n",
       "      <td>615</td>\n",
       "      <td>54</td>\n",
       "      <td>229</td>\n",
       "      <td>81</td>\n",
       "      <td>74</td>\n",
       "      <td>...</td>\n",
       "      <td>36</td>\n",
       "      <td>500</td>\n",
       "      <td>176</td>\n",
       "      <td>176</td>\n",
       "      <td>113</td>\n",
       "      <td>1228</td>\n",
       "      <td>276</td>\n",
       "      <td>427</td>\n",
       "      <td>949</td>\n",
       "      <td>16514</td>\n",
       "    </tr>\n",
       "    <tr>\n",
       "      <th>270</th>\n",
       "      <td>128</td>\n",
       "      <td>313</td>\n",
       "      <td>128</td>\n",
       "      <td>305</td>\n",
       "      <td>4868</td>\n",
       "      <td>70</td>\n",
       "      <td>122</td>\n",
       "      <td>141</td>\n",
       "      <td>177</td>\n",
       "      <td>186</td>\n",
       "      <td>...</td>\n",
       "      <td>0</td>\n",
       "      <td>100</td>\n",
       "      <td>10</td>\n",
       "      <td>347</td>\n",
       "      <td>297</td>\n",
       "      <td>319</td>\n",
       "      <td>125</td>\n",
       "      <td>138</td>\n",
       "      <td>117</td>\n",
       "      <td>10453</td>\n",
       "    </tr>\n",
       "    <tr>\n",
       "      <th>276</th>\n",
       "      <td>336</td>\n",
       "      <td>486</td>\n",
       "      <td>115</td>\n",
       "      <td>169</td>\n",
       "      <td>4853</td>\n",
       "      <td>64</td>\n",
       "      <td>116</td>\n",
       "      <td>44</td>\n",
       "      <td>184</td>\n",
       "      <td>82</td>\n",
       "      <td>...</td>\n",
       "      <td>0</td>\n",
       "      <td>79</td>\n",
       "      <td>74</td>\n",
       "      <td>138</td>\n",
       "      <td>274</td>\n",
       "      <td>275</td>\n",
       "      <td>87</td>\n",
       "      <td>257</td>\n",
       "      <td>159</td>\n",
       "      <td>10070</td>\n",
       "    </tr>\n",
       "    <tr>\n",
       "      <th>285</th>\n",
       "      <td>97</td>\n",
       "      <td>304</td>\n",
       "      <td>224</td>\n",
       "      <td>274</td>\n",
       "      <td>4340</td>\n",
       "      <td>65</td>\n",
       "      <td>141</td>\n",
       "      <td>128</td>\n",
       "      <td>227</td>\n",
       "      <td>122</td>\n",
       "      <td>...</td>\n",
       "      <td>0</td>\n",
       "      <td>124</td>\n",
       "      <td>182</td>\n",
       "      <td>279</td>\n",
       "      <td>245</td>\n",
       "      <td>231</td>\n",
       "      <td>84</td>\n",
       "      <td>152</td>\n",
       "      <td>119</td>\n",
       "      <td>10145</td>\n",
       "    </tr>\n",
       "    <tr>\n",
       "      <th>294</th>\n",
       "      <td>121</td>\n",
       "      <td>258</td>\n",
       "      <td>186</td>\n",
       "      <td>189</td>\n",
       "      <td>5000</td>\n",
       "      <td>57</td>\n",
       "      <td>104</td>\n",
       "      <td>115</td>\n",
       "      <td>186</td>\n",
       "      <td>217</td>\n",
       "      <td>...</td>\n",
       "      <td>0</td>\n",
       "      <td>129</td>\n",
       "      <td>77</td>\n",
       "      <td>203</td>\n",
       "      <td>250</td>\n",
       "      <td>209</td>\n",
       "      <td>462</td>\n",
       "      <td>73</td>\n",
       "      <td>98</td>\n",
       "      <td>10947</td>\n",
       "    </tr>\n",
       "    <tr>\n",
       "      <th>...</th>\n",
       "      <td>...</td>\n",
       "      <td>...</td>\n",
       "      <td>...</td>\n",
       "      <td>...</td>\n",
       "      <td>...</td>\n",
       "      <td>...</td>\n",
       "      <td>...</td>\n",
       "      <td>...</td>\n",
       "      <td>...</td>\n",
       "      <td>...</td>\n",
       "      <td>...</td>\n",
       "      <td>...</td>\n",
       "      <td>...</td>\n",
       "      <td>...</td>\n",
       "      <td>...</td>\n",
       "      <td>...</td>\n",
       "      <td>...</td>\n",
       "      <td>...</td>\n",
       "      <td>...</td>\n",
       "      <td>...</td>\n",
       "      <td>...</td>\n",
       "    </tr>\n",
       "    <tr>\n",
       "      <th>1017</th>\n",
       "      <td>175</td>\n",
       "      <td>345</td>\n",
       "      <td>847</td>\n",
       "      <td>326</td>\n",
       "      <td>2686</td>\n",
       "      <td>23</td>\n",
       "      <td>340</td>\n",
       "      <td>432</td>\n",
       "      <td>378</td>\n",
       "      <td>449</td>\n",
       "      <td>...</td>\n",
       "      <td>0</td>\n",
       "      <td>110</td>\n",
       "      <td>57</td>\n",
       "      <td>710</td>\n",
       "      <td>695</td>\n",
       "      <td>552</td>\n",
       "      <td>325</td>\n",
       "      <td>254</td>\n",
       "      <td>54</td>\n",
       "      <td>13800</td>\n",
       "    </tr>\n",
       "    <tr>\n",
       "      <th>1020</th>\n",
       "      <td>166</td>\n",
       "      <td>285</td>\n",
       "      <td>418</td>\n",
       "      <td>277</td>\n",
       "      <td>2944</td>\n",
       "      <td>7</td>\n",
       "      <td>247</td>\n",
       "      <td>348</td>\n",
       "      <td>416</td>\n",
       "      <td>266</td>\n",
       "      <td>...</td>\n",
       "      <td>0</td>\n",
       "      <td>104</td>\n",
       "      <td>60</td>\n",
       "      <td>456</td>\n",
       "      <td>698</td>\n",
       "      <td>494</td>\n",
       "      <td>360</td>\n",
       "      <td>190</td>\n",
       "      <td>34</td>\n",
       "      <td>12209</td>\n",
       "    </tr>\n",
       "    <tr>\n",
       "      <th>1023</th>\n",
       "      <td>112</td>\n",
       "      <td>267</td>\n",
       "      <td>355</td>\n",
       "      <td>292</td>\n",
       "      <td>1992</td>\n",
       "      <td>13</td>\n",
       "      <td>209</td>\n",
       "      <td>282</td>\n",
       "      <td>365</td>\n",
       "      <td>294</td>\n",
       "      <td>...</td>\n",
       "      <td>0</td>\n",
       "      <td>64</td>\n",
       "      <td>48</td>\n",
       "      <td>1224</td>\n",
       "      <td>420</td>\n",
       "      <td>394</td>\n",
       "      <td>364</td>\n",
       "      <td>137</td>\n",
       "      <td>37</td>\n",
       "      <td>11958</td>\n",
       "    </tr>\n",
       "    <tr>\n",
       "      <th>1029</th>\n",
       "      <td>96</td>\n",
       "      <td>211</td>\n",
       "      <td>341</td>\n",
       "      <td>385</td>\n",
       "      <td>2395</td>\n",
       "      <td>9</td>\n",
       "      <td>254</td>\n",
       "      <td>268</td>\n",
       "      <td>339</td>\n",
       "      <td>200</td>\n",
       "      <td>...</td>\n",
       "      <td>0</td>\n",
       "      <td>20</td>\n",
       "      <td>50</td>\n",
       "      <td>562</td>\n",
       "      <td>662</td>\n",
       "      <td>413</td>\n",
       "      <td>312</td>\n",
       "      <td>158</td>\n",
       "      <td>31</td>\n",
       "      <td>10959</td>\n",
       "    </tr>\n",
       "    <tr>\n",
       "      <th>1032</th>\n",
       "      <td>72</td>\n",
       "      <td>293</td>\n",
       "      <td>439</td>\n",
       "      <td>264</td>\n",
       "      <td>2191</td>\n",
       "      <td>20</td>\n",
       "      <td>274</td>\n",
       "      <td>280</td>\n",
       "      <td>397</td>\n",
       "      <td>349</td>\n",
       "      <td>...</td>\n",
       "      <td>0</td>\n",
       "      <td>115</td>\n",
       "      <td>59</td>\n",
       "      <td>521</td>\n",
       "      <td>571</td>\n",
       "      <td>291</td>\n",
       "      <td>426</td>\n",
       "      <td>174</td>\n",
       "      <td>15</td>\n",
       "      <td>11042</td>\n",
       "    </tr>\n",
       "  </tbody>\n",
       "</table>\n",
       "<p>66 rows × 32 columns</p>\n",
       "</div>"
      ],
      "text/plain": [
       "      Bagalkote  Ballari  Belagavi  BengaluruRural  BengaluruUrban  Bidar  \\\n",
       "0           208      919       336             158            5290    615   \n",
       "270         128      313       128             305            4868     70   \n",
       "276         336      486       115             169            4853     64   \n",
       "285          97      304       224             274            4340     65   \n",
       "294         121      258       186             189            5000     57   \n",
       "...         ...      ...       ...             ...             ...    ...   \n",
       "1017        175      345       847             326            2686     23   \n",
       "1020        166      285       418             277            2944      7   \n",
       "1023        112      267       355             292            1992     13   \n",
       "1029         96      211       341             385            2395      9   \n",
       "1032         72      293       439             264            2191     20   \n",
       "\n",
       "      Chamarajanagara  Chikkaballapura  Chikkamagaluru  Chitradurga  ...  \\\n",
       "0                  54              229              81           74  ...   \n",
       "270               122              141             177          186  ...   \n",
       "276               116               44             184           82  ...   \n",
       "285               141              128             227          122  ...   \n",
       "294               104              115             186          217  ...   \n",
       "...               ...              ...             ...          ...  ...   \n",
       "1017              340              432             378          449  ...   \n",
       "1020              247              348             416          266  ...   \n",
       "1023              209              282             365          294  ...   \n",
       "1029              254              268             339          200  ...   \n",
       "1032              274              280             397          349  ...   \n",
       "\n",
       "      OtherState  Raichur  Ramanagara  Shivamogga  Tumakuru  Udupi  \\\n",
       "0             36      500         176         176       113   1228   \n",
       "270            0      100          10         347       297    319   \n",
       "276            0       79          74         138       274    275   \n",
       "285            0      124         182         279       245    231   \n",
       "294            0      129          77         203       250    209   \n",
       "...          ...      ...         ...         ...       ...    ...   \n",
       "1017           0      110          57         710       695    552   \n",
       "1020           0      104          60         456       698    494   \n",
       "1023           0       64          48        1224       420    394   \n",
       "1029           0       20          50         562       662    413   \n",
       "1032           0      115          59         521       571    291   \n",
       "\n",
       "      UttaraKannada  Vijayapura  Yadgir  Total  \n",
       "0               276         427     949  16514  \n",
       "270             125         138     117  10453  \n",
       "276              87         257     159  10070  \n",
       "285              84         152     119  10145  \n",
       "294             462          73      98  10947  \n",
       "...             ...         ...     ...    ...  \n",
       "1017            325         254      54  13800  \n",
       "1020            360         190      34  12209  \n",
       "1023            364         137      37  11958  \n",
       "1029            312         158      31  10959  \n",
       "1032            426         174      15  11042  \n",
       "\n",
       "[66 rows x 32 columns]"
      ]
     },
     "execution_count": 53,
     "metadata": {},
     "output_type": "execute_result"
    }
   ],
   "source": [
    "df2"
   ]
  },
  {
   "cell_type": "markdown",
   "metadata": {
    "id": "gm1gZqfB0ZqJ"
   },
   "source": [
    "## 7. DataFrame Plotting\n",
    "---\n",
    "\n",
    "Pandas providess inbuilt method to directly plot the data present within the dataframe"
   ]
  },
  {
   "cell_type": "code",
   "execution_count": 54,
   "metadata": {
    "id": "4v-iC9o5z5WR"
   },
   "outputs": [
    {
     "data": {
      "image/png": "[encoded data removed]",
      "text/plain": [
       "<Figure size 640x480 with 1 Axes>"
      ]
     },
     "metadata": {},
     "output_type": "display_data"
    }
   ],
   "source": [
    "## Line plot\n",
    "import matplotlib.pyplot as plt\n",
    "\n",
    "plt.figure();\n",
    "p = df_reduced[\"Total\"].plot()\n",
    "plt.title(\"ssds\")\n",
    "plt.legend(loc='best');\n"
   ]
  },
  {
   "cell_type": "markdown",
   "metadata": {
    "id": "4plwJnlJp0Li"
   },
   "source": [
    "## 8. Exporting Data\n",
    "---\n"
   ]
  },
  {
   "cell_type": "code",
   "execution_count": 59,
   "metadata": {
    "id": "UK_8ecjQ1KrV"
   },
   "outputs": [],
   "source": [
    "## to csv\n",
    "df_master.to_csv(\"foo.csv\")"
   ]
  }
 ],
 "metadata": {
  "colab": {
   "provenance": []
  },
  "kernelspec": {
   "display_name": "Python 3 (ipykernel)",
   "language": "python",
   "name": "python3"
  },
  "language_info": {
   "codemirror_mode": {
    "name": "ipython",
    "version": 3
   },
   "file_extension": ".py",
   "mimetype": "text/x-python",
   "name": "python",
   "nbconvert_exporter": "python",
   "pygments_lexer": "ipython3",
   "version": "3.10.13"
  }
 },
 "nbformat": 4,
 "nbformat_minor": 4
}
